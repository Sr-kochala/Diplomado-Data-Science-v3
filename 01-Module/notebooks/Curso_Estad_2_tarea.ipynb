{
 "cells": [
  {
   "cell_type": "code",
   "execution_count": 1,
   "id": "0ec93918",
   "metadata": {},
   "outputs": [
    {
     "name": "stdout",
     "output_type": "stream",
     "text": [
      "-5\n"
     ]
    }
   ],
   "source": [
    "#cree una funcion que tome un numero y arroje su valor negativo\n",
    "def make_negative(number):\n",
    "    \"\"\"\n",
    "    Toma un número y devuelve su valor negativo.\n",
    "    Si el número ya es negativo o cero, lo retorna sin cambios.\n",
    "    \"\"\"\n",
    "    return -abs(number)\n",
    "\n",
    "# Ejemplo de uso\n",
    "num = 5\n",
    "print(make_negative(num))  # Salida: -5\n"
   ]
  },
  {
   "cell_type": "code",
   "execution_count": 2,
   "id": "f09a7595",
   "metadata": {},
   "outputs": [
    {
     "name": "stdout",
     "output_type": "stream",
     "text": [
      "[-1, -2, -3, 0, -5]\n"
     ]
    }
   ],
   "source": [
    "#cree una funcion que tome una lista de numeros y arroje su valor negativo\n",
    "def make_list_negative(numbers):\n",
    "    \"\"\"\n",
    "    Toma una lista de números y devuelve una nueva lista con los valores negativos.\n",
    "    \"\"\"\n",
    "    return [-abs(num) for num in numbers]\n",
    "\n",
    "num_list = [1, -2, 3, 0, -5]\n",
    "print(make_list_negative(num_list))  # Salida: [-1, -2, -3, 0, -5]"
   ]
  },
  {
   "cell_type": "code",
   "execution_count": 7,
   "id": "4a251a5a",
   "metadata": {},
   "outputs": [
    {
     "name": "stdout",
     "output_type": "stream",
     "text": [
      "        uno  dos\n",
      "0  0.333333  0.4\n",
      "1  0.666667  0.8\n",
      "2  1.000000  1.0\n"
     ]
    }
   ],
   "source": [
    "#cree una funcion que tome 4 argumentos Titulo1, Lista1, Titulo2, Lista2 y devuelva un DataFRame de Pandas\n",
    "import pandas as pd\n",
    "def create_dataframe(title1, list1, title2, list2):\n",
    "    \"\"\"\n",
    "    Crea un DataFrame de Pandas con dos columnas a partir de dos listas de valores.\n",
    "    Normaliza los valores dividiendo cada elemento por el último de su respectiva lista.\n",
    "    \"\"\"\n",
    "    list1_normalized = [x / list1[-1] for x in list1]\n",
    "    list2_normalized = [x / list2[-1] for x in list2]\n",
    "    \n",
    "    return pd.DataFrame({title1: list1_normalized, title2: list2_normalized})\n",
    "list1 = [1, 2, 3]\n",
    "list2 = [2, 4, 5]\n",
    "title1 = 'uno'\n",
    "title2 = 'dos'\n",
    "\n",
    "df = create_dataframe(title1, list1, title2, list2)\n",
    "print(df)"
   ]
  },
  {
   "cell_type": "markdown",
   "id": "0855730d",
   "metadata": {},
   "source": [
    "Por ejemplo\n",
    "```\n",
    "lsta1 = [1, 2, 3]\n",
    "lsta2 = [2, 4, 5]\n",
    "titulo1 = 'uno\n",
    "titulo2 = 'dos\n",
    "\n",
    "my_function(lsta, lsta, titulo1, titulo2)\n",
    "``` \n",
    "deberá devolver un DataFrame que se parezca a:\n",
    "\n",
    "\n",
    "\n",
    "|  <i></i> | one | two |\n",
    "| --- | --- | --- |\n",
    "| 0 | 0 | 0 |\n",
    "| 1 | .5 | .666 |\n",
    "| 2 | 1 | 1 |"
   ]
  }
 ],
 "metadata": {
  "kernelspec": {
   "display_name": "Python 3",
   "language": "python",
   "name": "python3"
  },
  "language_info": {
   "codemirror_mode": {
    "name": "ipython",
    "version": 3
   },
   "file_extension": ".py",
   "mimetype": "text/x-python",
   "name": "python",
   "nbconvert_exporter": "python",
   "pygments_lexer": "ipython3",
   "version": "3.13.2"
  }
 },
 "nbformat": 4,
 "nbformat_minor": 5
}
