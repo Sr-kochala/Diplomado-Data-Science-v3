{
 "cells": [
  {
   "cell_type": "markdown",
   "id": "df38f11f-2176-47ec-a998-93fcd9b71886",
   "metadata": {},
   "source": [
    "### ***Teorema Central del Limite***\n",
    "Msc Renzo Claure Aracena"
   ]
  },
  {
   "cell_type": "code",
   "execution_count": null,
   "id": "b9ef634f",
   "metadata": {},
   "outputs": [],
   "source": [
    "import pandas as pd\n",
    "import numpy as np\n",
    "import matplotlib.pyplot as plt\n",
    "from scipy.stats import gaussian_kde\n",
    "\n",
    "#base de datos toy_dataset.csv\n",
    "datos = pd.read_csv(\"toy_dataset.csv\")\n",
    "datos.head(5)"
   ]
  },
  {
   "cell_type": "code",
   "execution_count": null,
   "id": "c02e0bfe",
   "metadata": {},
   "outputs": [],
   "source": [
    "datos.shape"
   ]
  },
  {
   "cell_type": "code",
   "execution_count": null,
   "id": "3bce2f0a",
   "metadata": {},
   "outputs": [],
   "source": [
    "#Calcular la media y la DE:\n",
    "promedio_datos = datos['Income'].mean()\n",
    "desviacion_datos = datos['Income'].std()\n",
    "\n",
    "print(f'media: {promedio_datos:.3f}')\n",
    "print(f'desv_std: {desviacion_datos:.3f}')\n",
    "\n"
   ]
  },
  {
   "cell_type": "code",
   "execution_count": null,
   "id": "bd2fd124",
   "metadata": {},
   "outputs": [],
   "source": [
    "cv = desviacion_datos/promedio_datos\n",
    "print(f'cv: {cv:.3f}')"
   ]
  },
  {
   "cell_type": "code",
   "execution_count": null,
   "id": "4f0c5e01",
   "metadata": {},
   "outputs": [],
   "source": [
    "#Histograma de la variable Income:\n",
    "plt.hist(datos['Income'], bins='auto')\n",
    "plt.title(\"Histograma de la variable Income\")\n",
    "plt.show()"
   ]
  },
  {
   "cell_type": "code",
   "execution_count": null,
   "id": "5ed2dfd5",
   "metadata": {},
   "outputs": [],
   "source": [
    "# Para observar mejor la curva de densidad de la variable Income\n",
    "density = gaussian_kde(datos['Income'])\n",
    "xs = np.linspace(datos['Income'].min(), datos['Income'].max(), 1000)\n",
    "plt.plot(xs, density(xs), 'k', linewidth=3)\n",
    "plt.fill_between(xs, density(xs), alpha=0.5)\n",
    "plt.title(\"Densidad de la variable Income\")\n",
    "plt.show()\n"
   ]
  },
  {
   "cell_type": "code",
   "execution_count": null,
   "id": "46f4235a",
   "metadata": {},
   "outputs": [],
   "source": [
    "#generar 1.000 muestras de 100 registros\n",
    "muestras = pd.DataFrame()\n",
    "\n",
    "for i in range(1, 1001):\n",
    "    tmp = datos['Income'].sample(n=100)\n",
    "    tmp = pd.DataFrame(tmp, columns=['Income'])\n",
    "    tmp['grupo'] = i\n",
    "    muestras = pd.concat([muestras, tmp])\n"
   ]
  },
  {
   "cell_type": "code",
   "execution_count": null,
   "id": "987475ff-4ce0-4805-b39a-eff1eb3b7990",
   "metadata": {},
   "outputs": [],
   "source": [
    "muestras.head()"
   ]
  },
  {
   "cell_type": "code",
   "execution_count": null,
   "id": "a76f095a",
   "metadata": {},
   "outputs": [],
   "source": [
    "muestras['grupo'].value_counts()"
   ]
  },
  {
   "cell_type": "code",
   "execution_count": null,
   "id": "14e637ed",
   "metadata": {},
   "outputs": [],
   "source": [
    "#crear un  DataFrame con la media de cada muestra\n",
    "distribucion_medias = muestras.groupby('grupo')['Income'].mean().reset_index()\n",
    "distribucion_medias.columns = ['grupo', 'promedio']\n"
   ]
  },
  {
   "cell_type": "code",
   "execution_count": null,
   "id": "84ac8ee8",
   "metadata": {},
   "outputs": [],
   "source": [
    "distribucion_medias.head()"
   ]
  },
  {
   "cell_type": "code",
   "execution_count": null,
   "id": "ab335842",
   "metadata": {},
   "outputs": [],
   "source": [
    "#Calcular la media de todas estas medias y compararla con la media de toda la población\n",
    "promedio_muestra = distribucion_medias['promedio'].mean()\n",
    "\n",
    "# Para graficar la distribución de las medias de las 1.000 muestras\n",
    "density_muestras = gaussian_kde(distribucion_medias['promedio'])\n",
    "xs_muestras = np.linspace(distribucion_medias['promedio'].min(), distribucion_medias['promedio'].max(), 1000)\n",
    "plt.plot(xs_muestras, density_muestras(xs_muestras), 'k', linewidth=3)\n",
    "plt.fill_between(xs_muestras, density_muestras(xs_muestras), alpha=0.5)\n",
    "plt.title(\"Densidad de las medias de las 1,000 muestras\")\n",
    "plt.show()\n"
   ]
  },
  {
   "cell_type": "code",
   "execution_count": null,
   "id": "f2dab19d",
   "metadata": {},
   "outputs": [],
   "source": [
    "# Para crear dos gráficos, con 100 y con 1.000 unidades por muestra\n",
    "fig, axs = plt.subplots(2, 1, figsize=(6, 8))\n",
    "\n",
    "for i, n in enumerate([100, 1000]):\n",
    "    dgrid = gaussian_kde(distribucion_medias['promedio'].iloc[:n])\n",
    "    xs_grid = np.linspace(distribucion_medias['promedio'].min(), distribucion_medias['promedio'].max(), 1000)\n",
    "    axs[i].plot(xs_grid, dgrid(xs_grid), 'k', linewidth=3)\n",
    "    axs[i].fill_between(xs_grid, dgrid(xs_grid), alpha=0.5)\n",
    "    axs[i].set_title(f\"Muestra de {n} unidades\")\n",
    "\n",
    "plt.tight_layout()\n",
    "plt.show()"
   ]
  },
  {
   "cell_type": "code",
   "execution_count": null,
   "id": "5603bb7a-2f97-43e3-a2e8-e3150e8ed386",
   "metadata": {},
   "outputs": [],
   "source": []
  }
 ],
 "metadata": {
  "kernelspec": {
   "display_name": "Python 3 (ipykernel)",
   "language": "python",
   "name": "python3"
  },
  "language_info": {
   "codemirror_mode": {
    "name": "ipython",
    "version": 3
   },
   "file_extension": ".py",
   "mimetype": "text/x-python",
   "name": "python",
   "nbconvert_exporter": "python",
   "pygments_lexer": "ipython3",
   "version": "3.12.7"
  }
 },
 "nbformat": 4,
 "nbformat_minor": 5
}
