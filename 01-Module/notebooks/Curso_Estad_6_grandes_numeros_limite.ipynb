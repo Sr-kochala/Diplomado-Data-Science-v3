{
 "cells": [
  {
   "cell_type": "markdown",
   "id": "d9759b6a",
   "metadata": {},
   "source": [
    "### ***ASINTOPIA***\n",
    "Msc Renzo Claure"
   ]
  },
  {
   "cell_type": "markdown",
   "id": "08478a7c",
   "metadata": {},
   "source": [
    "### Ley de los grandes numeros"
   ]
  },
  {
   "cell_type": "code",
   "execution_count": 1,
   "id": "6872f006",
   "metadata": {},
   "outputs": [],
   "source": [
    "import random\n",
    "import matplotlib.pyplot as plt\n",
    "\n",
    "def ley_grandes_numeros(poblacion, tam_muestra, num_muestras):\n",
    "    medias_muestras = []\n",
    "    acumulador = 0\n",
    "\n",
    "    for i in range(num_muestras):\n",
    "        muestra = random.choices(poblacion, k=tam_muestra)\n",
    "        media_muestra = sum(muestra) / tam_muestra\n",
    "\n",
    "        acumulador += media_muestra  # Acumular las medias de las muestras\n",
    "        media_acumulada = acumulador / (i + 1)  # Calcular la media acumulada hasta el momento\n",
    "\n",
    "        medias_muestras.append(media_acumulada)\n",
    "\n",
    "    plt.plot(range(1, num_muestras + 1), medias_muestras)\n",
    "    plt.axhline(y=sum(poblacion) / len(poblacion), color='r', linestyle='--', label='Media poblacional')\n",
    "    plt.xlabel('Número de muestras')\n",
    "    plt.ylabel('Media acumulada de las muestras')\n",
    "    plt.legend()\n",
    "    plt.show()\n",
    "\n"
   ]
  },
  {
   "cell_type": "code",
   "execution_count": null,
   "id": "4338bb1a-914d-46fe-ba93-22c72d15d2ea",
   "metadata": {},
   "outputs": [],
   "source": [
    "# Ejemplo de uso\n",
    "poblacion = list(range(0, 2))\n",
    "tam_muestra = 10\n",
    "num_muestras = 1000\n",
    "\n",
    "ley_grandes_numeros(poblacion, tam_muestra, num_muestras)"
   ]
  },
  {
   "cell_type": "code",
   "execution_count": null,
   "id": "2f123d58-7d59-4781-8195-81e4e05a0543",
   "metadata": {},
   "outputs": [],
   "source": [
    "poblacion"
   ]
  },
  {
   "cell_type": "code",
   "execution_count": null,
   "id": "f17136fe-ff50-41c3-9618-7a13a6e63c93",
   "metadata": {},
   "outputs": [],
   "source": [
    "#Realice el experimento para el lanzamiento de un dado"
   ]
  },
  {
   "cell_type": "code",
   "execution_count": null,
   "id": "a23e43c5",
   "metadata": {},
   "outputs": [],
   "source": [
    "#Ejemplo para una Variable Continua\n",
    "import numpy as np\n",
    "import matplotlib.pyplot as plt\n",
    "\n",
    "n = 10000\n",
    "random_numbers = np.random.randn(n)\n",
    "means = np.cumsum(random_numbers) / np.arange(1, n + 1)\n",
    "\n",
    "plt.plot(range(1, n + 1), means, linewidth=2)\n",
    "plt.axhline(y=0, color='r', linestyle='--')\n",
    "plt.xlabel('Numero de Observaciones')\n",
    "plt.ylabel('Media Acumulada')\n",
    "plt.show()\n"
   ]
  },
  {
   "cell_type": "markdown",
   "id": "c1c67dc5",
   "metadata": {},
   "source": [
    "### Calculo del centro de masa"
   ]
  },
  {
   "cell_type": "code",
   "execution_count": null,
   "id": "e1c049d7",
   "metadata": {},
   "outputs": [],
   "source": [
    "import numpy as np\n",
    "import matplotlib.pyplot as plt\n",
    "\n",
    "# Generar datos aleatorios de ejemplo\n",
    "np.random.seed(0)\n",
    "num_puntos = 100\n",
    "x = np.random.normal(0, 1, num_puntos)\n",
    "y = np.random.normal(0, 1, num_puntos)\n",
    "\n",
    "# Calcular centro de masa\n",
    "centro_masa_x = np.mean(x)\n",
    "centro_masa_y = np.mean(y)\n",
    "\n",
    "# Graficar puntos y centro de masa\n",
    "plt.scatter(x, y, label='Puntos')\n",
    "plt.scatter(centro_masa_x, centro_masa_y, color='red', label='Centro de masa')\n",
    "plt.axvline(x=centro_masa_x, color='gray', linestyle='dashed')\n",
    "plt.axhline(y=centro_masa_y, color='gray', linestyle='dashed')\n",
    "\n",
    "plt.xlabel('Eje X')\n",
    "plt.ylabel('Eje Y')\n",
    "plt.title('Centro de masa')\n",
    "\n",
    "plt.legend()\n",
    "plt.grid(True)\n",
    "plt.show()\n"
   ]
  },
  {
   "cell_type": "code",
   "execution_count": null,
   "id": "84db3756",
   "metadata": {},
   "outputs": [],
   "source": [
    "%matplotlib inline\n",
    "import numpy as np\n",
    "import matplotlib.pyplot as plt\n",
    "\n",
    "np.random.seed(0)\n",
    "num_simulations = 1000\n",
    "num_dado = [1, 2, 3, 10, 100]\n",
    "mean_values = []\n",
    "\n",
    "for dado in num_dado:\n",
    "    simulation_results = np.mean(np.random.randint(1, 7, size=(num_simulations, dado)), axis=1)\n",
    "    mean_values.append(simulation_results)\n",
    "\n",
    "# Graficar los resultados\n",
    "fig, axs = plt.subplots(len(num_dado), figsize=(4, 6))\n",
    "fig.suptitle('Simulación del valor promedio de lanzamientos de dados')\n",
    "\n",
    "for i, dado in enumerate(num_dado):\n",
    "    axs[i].hist(mean_values[i], bins=20, range=(1, 6), density=True)\n",
    "    axs[i].set_title(f'{dado} dado(s)')\n",
    "    axs[i].set_xlabel('Valor promedio')\n",
    "    axs[i].set_ylabel('Densidad')\n",
    "\n",
    "plt.tight_layout()\n",
    "plt.show()\n"
   ]
  },
  {
   "cell_type": "code",
   "execution_count": null,
   "id": "8c2585a1",
   "metadata": {},
   "outputs": [],
   "source": [
    "#demostración de la centralidad de la varianza\n",
    "import numpy as np\n",
    "\n",
    "num_simulations = 1000  # Numero de simulaciones\n",
    "sample_size = 1000  # Tamaño de cada muestra\n",
    "\n",
    "sample_variances = np.zeros(num_simulations)  # Array para almacenar las varizanas muestrales\n",
    "\n",
    "for i in range(num_simulations):\n",
    "    samples = np.random.standard_normal(sample_size)  # Generamos una muestra aleatoria de una distribución Normal Standar (media 0 y dev est. 1)\n",
    "    sample_variances[i] = np.var(samples, ddof=1)  # Calculamos la varianza de la muestra y la almacenamos\n",
    "\n",
    "mean_variance = np.mean(sample_variances)  # Calculo de la media de las varianzas muestrales\n",
    "\n",
    "print(f\"Media de las varianzas muestrales: {mean_variance}\")\n"
   ]
  },
  {
   "cell_type": "code",
   "execution_count": null,
   "id": "d91a5d4d",
   "metadata": {},
   "outputs": [],
   "source": [
    "#teorema del central del limite\n",
    "import numpy as np\n",
    "import matplotlib.pyplot as plt\n",
    "\n",
    "np.random.seed(0)\n",
    "num_samples = 1000  # Número de muestras aleatorias\n",
    "sample_size = 1000  # Tamaño de cada muestra\n",
    "\n",
    "# Distribución original\n",
    "original_distribution = np.random.exponential(3, size=(num_samples, sample_size))\n",
    "\n",
    "# Suma de las medias\n",
    "sample_media = np.mean(original_distribution, axis=1)\n",
    "\n",
    "# Graficar los resultados\n",
    "plt.hist(sample_media, bins=30, density=True, alpha=0.7, label='Media de muestras')\n",
    "plt.xlabel('Media')\n",
    "plt.ylabel('Densidad')\n",
    "plt.title('Teorema del Límite Central')\n",
    "plt.legend()\n",
    "plt.grid(True)\n",
    "plt.show()\n"
   ]
  },
  {
   "cell_type": "code",
   "execution_count": null,
   "id": "a1aafe92-fc02-4a68-a4a0-600ed620c247",
   "metadata": {},
   "outputs": [],
   "source": []
  }
 ],
 "metadata": {
  "kernelspec": {
   "display_name": "Python 3",
   "language": "python",
   "name": "python3"
  },
  "language_info": {
   "codemirror_mode": {
    "name": "ipython",
    "version": 3
   },
   "file_extension": ".py",
   "mimetype": "text/x-python",
   "name": "python",
   "nbconvert_exporter": "python",
   "pygments_lexer": "ipython3",
   "version": "3.13.1"
  }
 },
 "nbformat": 4,
 "nbformat_minor": 5
}
