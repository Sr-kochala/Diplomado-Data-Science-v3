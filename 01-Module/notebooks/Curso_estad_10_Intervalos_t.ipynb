{
 "cells": [
  {
   "cell_type": "markdown",
   "id": "1e69530d",
   "metadata": {},
   "source": [
    "## Distrinuciones t\n",
    "Msc Renzo Claure"
   ]
  },
  {
   "cell_type": "code",
   "execution_count": null,
   "id": "e05b66ef",
   "metadata": {},
   "outputs": [],
   "source": [
    "import numpy as np\n",
    "import matplotlib.pyplot as plt\n",
    "from scipy.stats import norm, t\n",
    "from ipywidgets import interact, IntSlider\n",
    "%matplotlib inline\n",
    "\n",
    "def plot_distributions(df):\n",
    "    x = np.linspace(-4, 4, 1000)  # Rango de valores para x\n",
    "\n",
    "    #distribución Normal\n",
    "    y_normal = norm.pdf(x, loc=0, scale=1)  # Media=0, Desviación estándar=1\n",
    "\n",
    "    #distribución t de Student\n",
    "    y_t = t.pdf(x, df=df, loc=0, scale=1)  # Media=0, Desviación estándar=1, Grados de libertad=df\n",
    "\n",
    "\n",
    "    plt.figure(figsize=(10, 6))\n",
    "    plt.plot(x, y_normal, label='Normal')\n",
    "    plt.plot(x, y_t, label='t de Student (df={})'.format(df))\n",
    "    plt.xlabel('x')\n",
    "    plt.ylabel('Densidad de probabilidad')\n",
    "    plt.title('Comparación de distribuciones')\n",
    "    plt.legend()\n",
    "    plt.grid(True)\n",
    "    plt.show()\n",
    "\n",
    "interact(plot_distributions, df=IntSlider(min=1, max=30, step=1, value=1))\n"
   ]
  },
  {
   "cell_type": "markdown",
   "id": "3101568d",
   "metadata": {},
   "source": [
    "### Prueba t para diferencia de muestras relacionadas"
   ]
  },
  {
   "cell_type": "code",
   "execution_count": null,
   "id": "4e2bc867",
   "metadata": {},
   "outputs": [],
   "source": [
    "#Prueba t para diferencia de muestras relacionadas\n",
    "import pandas as pd\n",
    "import scipy.stats as stats\n",
    "\n",
    "# Cargar los datos desde el archivo CSV\n",
    "data = pd.read_csv('sleep.csv')\n"
   ]
  },
  {
   "cell_type": "code",
   "execution_count": null,
   "id": "9bc9d363",
   "metadata": {},
   "outputs": [],
   "source": [
    "data"
   ]
  },
  {
   "cell_type": "code",
   "execution_count": null,
   "id": "555e343a",
   "metadata": {},
   "outputs": [],
   "source": [
    "#Dividir los datos en dos grupos\n",
    "g1 = data['extra'].iloc[0:10].reset_index(drop=True)\n",
    "g2 = data['extra'].iloc[10:20].reset_index(drop=True)\n",
    "\n",
    "# Calcular la diferencia\n",
    "difference = g2 - g1\n",
    "\n",
    "difference"
   ]
  },
  {
   "cell_type": "code",
   "execution_count": null,
   "id": "336c7cc5",
   "metadata": {},
   "outputs": [],
   "source": [
    "# media, desviación estándar y tamaño de muestra\n",
    "mn = difference.mean()\n",
    "s = difference.std()\n",
    "n = len(difference)\n",
    "\n",
    "#intervalo de confianza directamente\n",
    "interval = stats.t.interval(0.95, n - 1, loc=mn, scale=s / (n ** 0.5))\n",
    "print(\"Intervalo de confianza directo:\", interval)"
   ]
  },
  {
   "cell_type": "code",
   "execution_count": null,
   "id": "eec6bc66-7248-44eb-939b-11dffba11f07",
   "metadata": {},
   "outputs": [],
   "source": [
    "mn"
   ]
  },
  {
   "cell_type": "markdown",
   "id": "cccb6a68",
   "metadata": {},
   "source": [
    "### Muestras independientes (No pareadas)"
   ]
  },
  {
   "cell_type": "code",
   "execution_count": null,
   "id": "aef5a6ae",
   "metadata": {},
   "outputs": [],
   "source": [
    "# Dividir los datos en dos grupos\n",
    "g1 = data['extra'].iloc[0:10].reset_index(drop=True)\n",
    "g2 = data['extra'].iloc[10:20].reset_index(drop=True)"
   ]
  },
  {
   "cell_type": "code",
   "execution_count": null,
   "id": "f56e0ff3",
   "metadata": {},
   "outputs": [],
   "source": [
    "import scipy.stats as stats\n",
    "\n",
    "# longitud de las series\n",
    "n1 = len(g1)\n",
    "n2 = len(g2)\n",
    "\n",
    "# desviación estándar agrupada\n",
    "sp = np.sqrt((((n1 - 1) * g1.std() ** 2) + ((n2 - 1) * g2.std() ** 2)) / (n1 + n2 - 2))\n",
    "\n",
    "sp\n"
   ]
  },
  {
   "cell_type": "code",
   "execution_count": null,
   "id": "80a0d51d",
   "metadata": {},
   "outputs": [],
   "source": [
    "#diferencia de medias\n",
    "md = g2.mean() - g1.mean()\n",
    "\n",
    "#error estándar de la diferencia de medias\n",
    "semd = sp * np.sqrt((1 / n1) + (1 / n2))\n",
    "\n",
    "print(md, semd)"
   ]
  },
  {
   "cell_type": "code",
   "execution_count": null,
   "id": "d9afddb7",
   "metadata": {},
   "outputs": [],
   "source": [
    "#intervalos de confianza\n",
    "t_value = stats.t.ppf(0.975, n1 + n2 - 2)\n",
    "interval_1 = md + np.array([-1, 1]) * t_value * semd\n",
    "interval_2 = (md - t_value * semd, md + t_value * semd)\n",
    "interval_3 = stats.ttest_rel(g2, g1).confidence_interval()\n",
    "\n",
    "#Tabla con los intervalos de confianza\n",
    "confidence_intervals = pd.DataFrame([interval_1, interval_2, interval_3], columns=['Lower', 'Upper'], index=['No pareadas metodo 1', 'No pareadas metodo 2', 'Pareadas'])\n",
    "print(confidence_intervals)"
   ]
  },
  {
   "cell_type": "code",
   "execution_count": null,
   "id": "56baad87",
   "metadata": {},
   "outputs": [],
   "source": [
    "#Muestras independientes\n",
    "import pandas as pd\n",
    "from statsmodels import datasets\n",
    "\n",
    "chickweight = datasets.get_rdataset('ChickWeight').data\n",
    "\n",
    "chickweight.head()"
   ]
  },
  {
   "cell_type": "code",
   "execution_count": null,
   "id": "6b5fdcba",
   "metadata": {},
   "outputs": [],
   "source": [
    "# Pivotear la tabla para reformarla\n",
    "wideCW = chickweight.pivot_table(index=['Diet', 'Chick'], columns='Time', values='weight').reset_index()\n",
    "#renombrar las columnas de tiempo\n",
    "wideCW.columns = ['Diet', 'Chick'] + ['time' + str(i) for i in wideCW.columns[2:]]\n",
    "\n",
    "wideCW.head()"
   ]
  },
  {
   "cell_type": "code",
   "execution_count": null,
   "id": "25fd75a6",
   "metadata": {},
   "outputs": [],
   "source": [
    "wideCW['Diet'].value_counts()"
   ]
  },
  {
   "cell_type": "code",
   "execution_count": null,
   "id": "bf238f59",
   "metadata": {},
   "outputs": [],
   "source": [
    "#Se calcula la ganacia de peso entre la semana 21 y la 0\n",
    "wideCW = wideCW.assign(gain=wideCW['time21'] - wideCW['time0'])\n",
    "\n",
    "#Mostrar el Dataframe\n",
    "wideCW.head()"
   ]
  },
  {
   "cell_type": "code",
   "execution_count": null,
   "id": "d44d5bd2",
   "metadata": {},
   "outputs": [],
   "source": [
    "wideCW[wideCW['Diet']==4]"
   ]
  },
  {
   "cell_type": "markdown",
   "id": "ae564db8",
   "metadata": {},
   "source": [
    "### ejemplo 2"
   ]
  },
  {
   "cell_type": "code",
   "execution_count": null,
   "id": "f718e384",
   "metadata": {},
   "outputs": [],
   "source": [
    "import pandas as pd\n",
    "import seaborn as sns\n",
    "from statsmodels import datasets\n",
    "\n",
    "\n",
    "chickweight['weight_gain'] = chickweight['weight'].groupby([chickweight['Diet'], chickweight['Chick']]).transform('last') - chickweight['weight'].groupby([chickweight['Diet'], chickweight['Chick']]).transform('first')\n",
    "\n",
    "sns.boxplot(x='Diet', y='weight_gain', data=chickweight)\n",
    "plt.title('Weight Gain by Diet')\n",
    "plt.xlabel('Diet')\n",
    "plt.ylabel('Weight Gain')\n",
    "plt.show()\n"
   ]
  },
  {
   "cell_type": "code",
   "execution_count": null,
   "id": "581edee1",
   "metadata": {},
   "outputs": [],
   "source": [
    "#pip install --upgrade scipy"
   ]
  },
  {
   "cell_type": "code",
   "execution_count": null,
   "id": "e34c2d15",
   "metadata": {},
   "outputs": [],
   "source": [
    "import pandas as pd\n",
    "from scipy.stats import ttest_ind\n",
    "import scipy.stats\n",
    "\n",
    "\n",
    "\n",
    "wideCW14 = wideCW[wideCW['Diet'].isin([1, 4])]\n",
    "\n",
    "ttest_equal_var = ttest_ind(wideCW14[wideCW14['Diet'] == 1]['gain'], wideCW14[wideCW14['Diet'] == 4]['gain'], equal_var=True, nan_policy='omit')\n",
    "ttest_unequal_var = ttest_ind(wideCW14[wideCW14['Diet'] == 1]['gain'], wideCW14[wideCW14['Diet'] == 4]['gain'], equal_var=False, nan_policy='omit')\n",
    "\n",
    "conf1 = ttest_equal_var.confidence_interval(confidence_level=0.95)\n",
    "conf2 = ttest_unequal_var.confidence_interval()\n",
    "\n",
    "conf_df = pd.DataFrame({'conf': [conf1, conf2]})\n",
    "\n",
    "print(conf_df)\n"
   ]
  },
  {
   "cell_type": "markdown",
   "id": "07e4fd95",
   "metadata": {},
   "source": [
    "## Pruebas de hipotesis"
   ]
  },
  {
   "cell_type": "markdown",
   "id": "7787cb5f",
   "metadata": {},
   "source": [
    "### Prueba de dos colas"
   ]
  },
  {
   "cell_type": "code",
   "execution_count": null,
   "id": "121ef543",
   "metadata": {},
   "outputs": [],
   "source": [
    "#El metodo completo\n",
    "import pandas as pd\n",
    "import scipy.stats as stats\n",
    "import numpy as np\n",
    "\n",
    "# datos\n",
    "X = pd.read_csv('galton.csv')\n",
    "data = X['height'] - X['father']\n",
    "\n",
    "# test de hipotesis\n",
    "H0 = 0  # Ho\n",
    "\n",
    "t_statistic, p_value = stats.ttest_1samp(data, H0)\n",
    "\n",
    "# Analysis of p-value\n",
    "alpha = 0.05  # Significance level\n",
    "\n",
    "if abs(t_statistic) > stats.t.ppf(0.975, data.shape[0]*2-2):\n",
    "    print(\"Se rechaza la H0. La media muestral es significativamente diferente de:\", H0)\n",
    "else:\n",
    "    print(\"Se acepta la H0. La media de la muestra no es significativamente distinta de:\", H0)\n",
    "\n",
    "# Confidence intervals\n",
    "confidence_level = 0.95  # Confidence level\n",
    "n = len(data)  # Sample size\n",
    "mean = np.mean(data)  # Sample mean\n",
    "std_error = stats.sem(data)  # Standard error of the mean\n",
    "\n",
    "margin_of_error = stats.t.ppf((1 + confidence_level) / 2, n - 2) * std_error\n",
    "confidence_interval = (mean - margin_of_error, mean + margin_of_error)\n",
    "\n",
    "print(\"Intervalo de confianza:\", confidence_interval)\n"
   ]
  },
  {
   "cell_type": "code",
   "execution_count": null,
   "id": "3eb0a722",
   "metadata": {},
   "outputs": [],
   "source": [
    "#metodo abreviado\n",
    "from scipy import stats\n",
    "import pandas as pd\n",
    "\n",
    "X = pd.read_csv('galton.csv')"
   ]
  },
  {
   "cell_type": "code",
   "execution_count": null,
   "id": "91d63837",
   "metadata": {},
   "outputs": [],
   "source": [
    "t_statistic = stats.ttest_1samp(X['height'] - X['father'], 0)\n",
    "t_statistic_975 =  stats.t.ppf(0.975, X.shape[0]*2-2)\n",
    "\n",
    "# Print the results\n",
    "print(\"t-test:\")\n",
    "print(\"T-statistic:\", t_statistic)\n",
    "print('t_statistic_975:', t_statistic_975)"
   ]
  },
  {
   "cell_type": "code",
   "execution_count": null,
   "id": "62e31847",
   "metadata": {},
   "outputs": [],
   "source": [
    "#la diferencia promedio es lejana de 0 (es decir son distintos)\n",
    "np.mean(X['height'] - X['father'])"
   ]
  },
  {
   "cell_type": "code",
   "execution_count": null,
   "id": "88f1afab",
   "metadata": {},
   "outputs": [],
   "source": [
    "#grados de libertad\n",
    "X.shape[0]*2-2"
   ]
  },
  {
   "cell_type": "code",
   "execution_count": null,
   "id": "78b7bfd9",
   "metadata": {},
   "outputs": [],
   "source": [
    "#los intervalos de confianza al 95%\n",
    "t_statistic.confidence_interval(0.95)"
   ]
  },
  {
   "cell_type": "code",
   "execution_count": null,
   "id": "280db554",
   "metadata": {},
   "outputs": [],
   "source": [
    "#entonces aceptamos la hipótesis alternativa, la diferencia de medias es distinta de cero"
   ]
  },
  {
   "cell_type": "markdown",
   "id": "7569f5aa",
   "metadata": {},
   "source": [
    "#### Intervalos para dos grupos"
   ]
  },
  {
   "cell_type": "code",
   "execution_count": 1,
   "id": "d0fd2c4a",
   "metadata": {},
   "outputs": [
    {
     "ename": "ModuleNotFoundError",
     "evalue": "No module named 'statsmodels'",
     "output_type": "error",
     "traceback": [
      "\u001b[1;31m---------------------------------------------------------------------------\u001b[0m",
      "\u001b[1;31mModuleNotFoundError\u001b[0m                       Traceback (most recent call last)",
      "Cell \u001b[1;32mIn[1], line 3\u001b[0m\n\u001b[0;32m      1\u001b[0m \u001b[38;5;66;03m#Ejemplo pollitos y pesos\u001b[39;00m\n\u001b[0;32m      2\u001b[0m \u001b[38;5;28;01mimport\u001b[39;00m\u001b[38;5;250m \u001b[39m\u001b[38;5;21;01mpandas\u001b[39;00m\u001b[38;5;250m \u001b[39m\u001b[38;5;28;01mas\u001b[39;00m\u001b[38;5;250m \u001b[39m\u001b[38;5;21;01mpd\u001b[39;00m\n\u001b[1;32m----> 3\u001b[0m \u001b[38;5;28;01mfrom\u001b[39;00m\u001b[38;5;250m \u001b[39m\u001b[38;5;21;01mstatsmodels\u001b[39;00m\u001b[38;5;250m \u001b[39m\u001b[38;5;28;01mimport\u001b[39;00m datasets\n\u001b[0;32m      5\u001b[0m chickweight \u001b[38;5;241m=\u001b[39m datasets\u001b[38;5;241m.\u001b[39mget_rdataset(\u001b[38;5;124m'\u001b[39m\u001b[38;5;124mChickWeight\u001b[39m\u001b[38;5;124m'\u001b[39m)\u001b[38;5;241m.\u001b[39mdata\n\u001b[0;32m      6\u001b[0m wideCW \u001b[38;5;241m=\u001b[39m chickweight\u001b[38;5;241m.\u001b[39mpivot_table(index\u001b[38;5;241m=\u001b[39m[\u001b[38;5;124m'\u001b[39m\u001b[38;5;124mDiet\u001b[39m\u001b[38;5;124m'\u001b[39m, \u001b[38;5;124m'\u001b[39m\u001b[38;5;124mChick\u001b[39m\u001b[38;5;124m'\u001b[39m], columns\u001b[38;5;241m=\u001b[39m\u001b[38;5;124m'\u001b[39m\u001b[38;5;124mTime\u001b[39m\u001b[38;5;124m'\u001b[39m, values\u001b[38;5;241m=\u001b[39m\u001b[38;5;124m'\u001b[39m\u001b[38;5;124mweight\u001b[39m\u001b[38;5;124m'\u001b[39m)\u001b[38;5;241m.\u001b[39mreset_index()\n",
      "\u001b[1;31mModuleNotFoundError\u001b[0m: No module named 'statsmodels'"
     ]
    }
   ],
   "source": [
    "#Ejemplo pollitos y pesos\n",
    "import pandas as pd\n",
    "from statsmodels import datasets\n",
    "\n",
    "chickweight = datasets.get_rdataset('ChickWeight').data\n",
    "wideCW = chickweight.pivot_table(index=['Diet', 'Chick'], columns='Time', values='weight').reset_index()\n",
    "wideCW.columns = ['Diet', 'Chick'] + ['time' + str(i) for i in wideCW.columns[2:]]\n",
    "wideCW = wideCW.assign(gain=wideCW['time21'] - wideCW['time0'])\n",
    "\n",
    "wideCW.head()"
   ]
  },
  {
   "cell_type": "code",
   "execution_count": null,
   "id": "d332bf17-fbdd-4a4e-90e6-c14548d51940",
   "metadata": {},
   "outputs": [],
   "source": [
    "wideCW['Diet'].value_counts()"
   ]
  },
  {
   "cell_type": "code",
   "execution_count": null,
   "id": "09b483f8",
   "metadata": {},
   "outputs": [],
   "source": [
    "#Prueba para varianzas desiguales\n",
    "\n",
    "from scipy import stats\n",
    "\n",
    "#separando las muestras\n",
    "wideCW14 = wideCW[wideCW['Diet'].isin([1, 4])]\n",
    "\n",
    "#Prueba t de muestras independientes con varianzas desiguales\n",
    "result = stats.ttest_ind(wideCW14[wideCW14['Diet'] == 1]['gain'],\n",
    "                         wideCW14[wideCW14['Diet'] == 4]['gain'],\n",
    "                         equal_var=False, nan_policy='omit')\n",
    "\n",
    "# Imprimir los resultados\n",
    "print(\"Two Sample t-test\")\n",
    "print(\"t-statistic:\", result.statistic)\n",
    "print(\"p-value:\", result.pvalue)\n"
   ]
  },
  {
   "cell_type": "code",
   "execution_count": null,
   "id": "435cb028",
   "metadata": {},
   "outputs": [],
   "source": [
    "result.df"
   ]
  },
  {
   "cell_type": "code",
   "execution_count": null,
   "id": "864261dc",
   "metadata": {},
   "outputs": [],
   "source": [
    "result.confidence_interval(0.95)"
   ]
  },
  {
   "cell_type": "code",
   "execution_count": null,
   "id": "eb34e732",
   "metadata": {
    "scrolled": true
   },
   "outputs": [],
   "source": [
    "wideCW[wideCW['Diet']==1]['gain'].mean()"
   ]
  },
  {
   "cell_type": "code",
   "execution_count": null,
   "id": "9a6ce87e",
   "metadata": {},
   "outputs": [],
   "source": [
    "wideCW[wideCW['Diet']==4]['gain'].mean()"
   ]
  },
  {
   "cell_type": "code",
   "execution_count": null,
   "id": "2257f142",
   "metadata": {},
   "outputs": [],
   "source": [
    "result.pvalue"
   ]
  },
  {
   "cell_type": "code",
   "execution_count": null,
   "id": "5f793889",
   "metadata": {},
   "outputs": [],
   "source": [
    "wideCW[wideCW['Diet']==4]['gain'].count()"
   ]
  },
  {
   "cell_type": "code",
   "execution_count": null,
   "id": "6c6d8634",
   "metadata": {},
   "outputs": [],
   "source": [
    "wideCW[wideCW['Diet']==1]['gain'].count()"
   ]
  },
  {
   "cell_type": "code",
   "execution_count": null,
   "id": "329285f4",
   "metadata": {},
   "outputs": [],
   "source": []
  }
 ],
 "metadata": {
  "kernelspec": {
   "display_name": "Python 3",
   "language": "python",
   "name": "python3"
  },
  "language_info": {
   "codemirror_mode": {
    "name": "ipython",
    "version": 3
   },
   "file_extension": ".py",
   "mimetype": "text/x-python",
   "name": "python",
   "nbconvert_exporter": "python",
   "pygments_lexer": "ipython3",
   "version": "3.13.1"
  }
 },
 "nbformat": 4,
 "nbformat_minor": 5
}
