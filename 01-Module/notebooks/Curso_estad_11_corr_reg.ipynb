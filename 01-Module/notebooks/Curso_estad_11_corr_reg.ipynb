{
 "cells": [
  {
   "cell_type": "markdown",
   "id": "cefec0f4",
   "metadata": {},
   "source": [
    "# Analisis ANOVA de un factor"
   ]
  },
  {
   "cell_type": "code",
   "execution_count": null,
   "id": "867a04dd",
   "metadata": {},
   "outputs": [],
   "source": [
    "import numpy as np\n",
    "import pandas as pd\n",
    "import statsmodels.api as sm\n",
    "from sklearn import datasets\n",
    "\n",
    "#Usaremos los datos de Iris\n",
    "iris = datasets.load_iris()\n",
    "X = iris.data\n",
    "y = iris.target\n",
    "\n",
    "#tomamos los datos en un dataframe\n",
    "df = pd.DataFrame(X, columns=iris.feature_names)\n",
    "df['target'] = y\n",
    "\n",
    "\n"
   ]
  },
  {
   "cell_type": "code",
   "execution_count": null,
   "id": "fa72fb68",
   "metadata": {},
   "outputs": [],
   "source": [
    "df.head()"
   ]
  },
  {
   "cell_type": "code",
   "execution_count": null,
   "id": "ad834802",
   "metadata": {},
   "outputs": [],
   "source": [
    "df['target'].value_counts()"
   ]
  },
  {
   "cell_type": "code",
   "execution_count": null,
   "id": "591a8174",
   "metadata": {
    "scrolled": true
   },
   "outputs": [],
   "source": [
    "#agregamos el modelo\n",
    "model = sm.OLS.from_formula('Q(\"sepal length (cm)\") ~ C(target)', data=df).fit()\n",
    "anova_table = sm.stats.anova_lm(model, typ=2)\n",
    "\n",
    "print(anova_table)"
   ]
  },
  {
   "cell_type": "markdown",
   "id": "cc007817",
   "metadata": {},
   "source": [
    "### Comparacion entre grupos"
   ]
  },
  {
   "cell_type": "code",
   "execution_count": null,
   "id": "f5460264",
   "metadata": {},
   "outputs": [],
   "source": [
    "import numpy as np\n",
    "import pandas as pd\n",
    "import statsmodels.api as sm\n",
    "from statsmodels.stats.multicomp import pairwise_tukeyhsd\n",
    "from sklearn import datasets\n",
    "\n",
    "\n",
    "iris = datasets.load_iris()\n",
    "X = iris.data\n",
    "y = iris.target\n",
    "\n",
    "\n",
    "df = pd.DataFrame(X, columns=iris.feature_names)\n",
    "df['target'] = y\n",
    "\n",
    "\n",
    "model = sm.formula.ols('Q(\"sepal length (cm)\") ~ C(target)', data=df).fit()\n",
    "anova_table = sm.stats.anova_lm(model, typ=2)\n",
    "\n",
    "#Prueba post hoc de Tukey\n",
    "posthoc = pairwise_tukeyhsd(df['sepal length (cm)'], df['target'])\n",
    "print(posthoc)\n"
   ]
  },
  {
   "cell_type": "code",
   "execution_count": null,
   "id": "e273f8f3-07ec-444f-9484-41c0b96bf9ca",
   "metadata": {},
   "outputs": [],
   "source": [
    "df.head()"
   ]
  },
  {
   "cell_type": "code",
   "execution_count": null,
   "id": "ead96510",
   "metadata": {},
   "outputs": [],
   "source": [
    "#Para obtener los resultados con scypy\n",
    "from scipy.stats import f_oneway\n",
    "\n",
    "iris = datasets.load_iris()\n",
    "X = iris.data\n",
    "y = iris.target\n",
    "\n",
    "#Se deben eparar datos por grupo\n",
    "group1 = X[y == 0, 0] \n",
    "group2 = X[y == 1, 0] \n",
    "group3 = X[y == 2, 0] \n",
    "\n",
    "#Para obtener el ANOVA de una factor\n",
    "f_statistic, p_value = f_oneway(group1, group2, group3)\n",
    "\n",
    "print(f\"F-statistic: {f_statistic}\")\n",
    "print(f\"p-value: {p_value}\")"
   ]
  },
  {
   "cell_type": "code",
   "execution_count": null,
   "id": "6302f7b6",
   "metadata": {},
   "outputs": [],
   "source": [
    "#tabla resultados\n",
    "data = {'Grupo': ['Grupo 1', 'Grupo 2', 'Grupo 3'],\n",
    "        'Media': [np.mean(group1), np.mean(group2), np.mean(group3)],\n",
    "        'Desviación Estándar': [np.std(group1), np.std(group2), np.std(group3)]}\n",
    "\n",
    "pd.DataFrame(data)"
   ]
  },
  {
   "cell_type": "code",
   "execution_count": null,
   "id": "1e1c41bc",
   "metadata": {},
   "outputs": [],
   "source": [
    "#tomamos los datos en un dataframe\n",
    "df = pd.DataFrame(X, columns=iris.feature_names)\n",
    "df['target'] = y"
   ]
  },
  {
   "cell_type": "code",
   "execution_count": null,
   "id": "c1f3ddf7",
   "metadata": {},
   "outputs": [],
   "source": [
    "#calculo de errores\n",
    "overall_mean = df['sepal length (cm)'].mean()\n",
    "ssg = len(group1) * (group1.mean() - overall_mean)**2 + len(group2) * (group2.mean() - overall_mean)**2 + len(group3) * (group3.mean() - overall_mean)**2\n",
    "sse = ((len(group1) - 1) * group1.var()) + ((len(group2) - 1) * group2.var()) + ((len(group3) - 1) * group3.var())\n",
    "sst = ssg + sse"
   ]
  },
  {
   "cell_type": "code",
   "execution_count": null,
   "id": "0981bb3a",
   "metadata": {},
   "outputs": [],
   "source": [
    "print(\"SSG:\", ssg)\n",
    "print(\"SSE:\", sse)\n",
    "print(\"SST:\", sst)"
   ]
  },
  {
   "cell_type": "markdown",
   "id": "fb33493b",
   "metadata": {},
   "source": [
    "#### Que pasa si las varianzas no son iguales:"
   ]
  },
  {
   "cell_type": "code",
   "execution_count": null,
   "id": "bbdcb728",
   "metadata": {},
   "outputs": [],
   "source": [
    "#Prueba de homogeneidad de varianzas (Levene)\n",
    "from scipy.stats import levene\n",
    "statistic, p_value = levene(group1, group2, group3)\n",
    "print('Prueva levene (Estad):', statistic)\n",
    "print('Prueva levene (P-valor):', p_value)"
   ]
  },
  {
   "cell_type": "code",
   "execution_count": null,
   "id": "5af03bde",
   "metadata": {},
   "outputs": [],
   "source": [
    "from statsmodels.formula.api import ols\n",
    "\n",
    "#ANOVA con ajuste para varianzas no iguales\n",
    "model = ols('Q(\"sepal length (cm)\") ~ C(target)', data=df).fit(cov_type='HC3')\n",
    "anova_table = sm.stats.anova_lm(model, typ=2)\n",
    "#se utiliza para indicar que se aplique un ajuste para varianzas no iguales \n",
    "#utilizando la estimación de varianza heterocedástica HC3.\n",
    "\n",
    "print(anova_table)"
   ]
  },
  {
   "cell_type": "markdown",
   "id": "8e3b6556",
   "metadata": {},
   "source": [
    "#### Para arreglos multidimencionales"
   ]
  },
  {
   "cell_type": "code",
   "execution_count": null,
   "id": "e112de22",
   "metadata": {},
   "outputs": [],
   "source": [
    "#Para arreglos multidimencionales\n",
    "import numpy\n",
    "import scipy.stats\n",
    "x1 = numpy.array([[1, 5, 5, 9, 5],[5, 15, 20, 5, 3],\n",
    "                  [5, 2, 2, 3, 5],[2, 5, 3, 5, 4]])\n",
    "x2 = numpy.array([[5, 10, 5, 20, 0],[10, 5, 2, 2, 30],\n",
    "                  [15, 0, 5, 0, 3],[0, 2, 30, 3, 4]])\n",
    "x3 = numpy.array([[5, 1, 1, 2, 30],[10, 1, 20, 2, 30],\n",
    "                  [15, 2, 5, 3, 35],[2, 2, 3, 3, 4]])\n",
    "f_statistic, p_value = scipy.stats.f_oneway(x1, x2, x3)\n",
    "print(f\"F-statistic: {f_statistic}\")\n",
    "print(f\"p-value: {p_value}\")"
   ]
  },
  {
   "cell_type": "code",
   "execution_count": null,
   "id": "89bc68f7",
   "metadata": {},
   "outputs": [],
   "source": [
    "x1"
   ]
  },
  {
   "cell_type": "markdown",
   "id": "a79d9a8a",
   "metadata": {},
   "source": [
    "# Analisis de correlacion"
   ]
  },
  {
   "cell_type": "code",
   "execution_count": null,
   "id": "c545fb5c",
   "metadata": {},
   "outputs": [],
   "source": [
    "#Relacion city-mpg y highway-mpg\n",
    "import matplotlib.pyplot as plt\n",
    "from scipy.stats import pearsonr\n",
    "#from sklearn.datasets import load_iris\n",
    "\n",
    "df = pd.read_csv('auto.csv', delimiter=';')\n",
    "df = df.replace('?', np.nan)\n",
    "df = df.dropna()\n",
    "\n",
    "city_mpg = df['city-mpg']\n",
    "h_mpg = df['highway-mpg']\n",
    "\n",
    "#correlacion \n",
    "correlacion, p_value = pearsonr(city_mpg, h_mpg)\n",
    "print(\"Correlación:\", correlacion)\n",
    "print(\"Valor p:\", p_value)\n",
    "\n",
    "#Diagrama de dispersión\n",
    "plt.scatter(city_mpg, h_mpg)\n",
    "plt.xlabel('Rendimiento en MPG para la ciudad')\n",
    "plt.ylabel('Rendimiento en MPG para la carretera')\n",
    "plt.title('Diagrama de Dispersión')\n",
    "plt.show()\n"
   ]
  },
  {
   "cell_type": "code",
   "execution_count": null,
   "id": "c9985626",
   "metadata": {},
   "outputs": [],
   "source": [
    "import seaborn as sns\n",
    "\n",
    "e_size = df['engine-size']\n",
    "h_mpg = df['highway-mpg']\n",
    "\n",
    "#correlacion \n",
    "correlacion, p_value = pearsonr(e_size, h_mpg)\n",
    "print(\"Correlación:\", correlacion)\n",
    "print(\"Valor p:\", p_value)\n",
    "\n",
    "#Diagrama de dispersión\n",
    "sns.regplot(x=e_size, y=h_mpg)\n",
    "plt.xlabel('Tamaño del motor')\n",
    "plt.ylabel('Rendimiento en carretera')\n",
    "plt.title('Gráfico de Regresión')\n",
    "plt.show()\n"
   ]
  },
  {
   "cell_type": "markdown",
   "id": "8ce02502",
   "metadata": {},
   "source": [
    "## Análisis de regresión"
   ]
  },
  {
   "cell_type": "code",
   "execution_count": null,
   "id": "c2d1fa4d",
   "metadata": {},
   "outputs": [],
   "source": [
    "import matplotlib.pyplot as plt\n",
    "import numpy as np\n",
    "import pandas as pd\n",
    "import seaborn as sns\n",
    "from scipy import stats\n",
    "from statsmodels.graphics.gofplots import qqplot"
   ]
  },
  {
   "cell_type": "code",
   "execution_count": null,
   "id": "fec327bc",
   "metadata": {},
   "outputs": [],
   "source": [
    "galton = pd.read_csv('galton.csv')\n",
    "galton.shape"
   ]
  },
  {
   "cell_type": "code",
   "execution_count": null,
   "id": "ad184d4e",
   "metadata": {},
   "outputs": [],
   "source": [
    "galton.columns"
   ]
  },
  {
   "cell_type": "code",
   "execution_count": null,
   "id": "c3253a86-fabe-4b97-80a8-0ccc12cfbf69",
   "metadata": {},
   "outputs": [],
   "source": [
    "galton.info()"
   ]
  },
  {
   "cell_type": "code",
   "execution_count": null,
   "id": "8fd869bf",
   "metadata": {},
   "outputs": [],
   "source": [
    "#Análisis de correlación\n",
    "plt.figure(figsize=(16, 6))\n",
    "sns.heatmap(galton.corr(numeric_only=True), annot=True)"
   ]
  },
  {
   "cell_type": "code",
   "execution_count": null,
   "id": "8aff0694",
   "metadata": {},
   "outputs": [],
   "source": [
    "hijos = galton[galton['sex']=='M']\n",
    "hijas = galton[galton['sex']=='F']"
   ]
  },
  {
   "cell_type": "code",
   "execution_count": null,
   "id": "4eb1b55f",
   "metadata": {},
   "outputs": [],
   "source": [
    "#Diagrama de dispersión\n",
    "sns.regplot(x=hijas['father'], y=hijas['height'])\n",
    "plt.xlabel('Altura del padre')\n",
    "plt.ylabel('Altura de la hija')\n",
    "plt.title('Gráfico de Regresión')\n",
    "plt.show()"
   ]
  },
  {
   "cell_type": "code",
   "execution_count": null,
   "id": "53d9bf64",
   "metadata": {},
   "outputs": [],
   "source": [
    "plt.figure(figsize=(16, 6))\n",
    "sns.heatmap(hijos.corr(numeric_only=True), annot=True)"
   ]
  },
  {
   "cell_type": "code",
   "execution_count": null,
   "id": "c34c88b7",
   "metadata": {},
   "outputs": [],
   "source": [
    "plt.figure(figsize=(16, 6))\n",
    "sns.heatmap(hijas.corr(numeric_only=True), annot=True)"
   ]
  },
  {
   "cell_type": "code",
   "execution_count": null,
   "id": "f32dc14e",
   "metadata": {},
   "outputs": [],
   "source": [
    "correlacion, p_value = pearsonr(hijas['mother'], hijas['height'])"
   ]
  },
  {
   "cell_type": "code",
   "execution_count": null,
   "id": "ec0bc237",
   "metadata": {},
   "outputs": [],
   "source": [
    "correlacion"
   ]
  },
  {
   "cell_type": "code",
   "execution_count": null,
   "id": "f12e3c39",
   "metadata": {},
   "outputs": [],
   "source": [
    "p_value"
   ]
  },
  {
   "cell_type": "code",
   "execution_count": null,
   "id": "b5342fe5",
   "metadata": {},
   "outputs": [],
   "source": [
    "#Revision de las distribuciones de frecuencia\n",
    "plt.hist(hijas['height'])"
   ]
  },
  {
   "cell_type": "code",
   "execution_count": null,
   "id": "cc0634be",
   "metadata": {},
   "outputs": [],
   "source": [
    "plt.hist(hijas['mother'])"
   ]
  },
  {
   "cell_type": "code",
   "execution_count": null,
   "id": "c53a8718",
   "metadata": {},
   "outputs": [],
   "source": [
    "#Regresion lineal simple, altura de los madres vs altura de las hijas\n",
    "Y = hijas['height']\n",
    "X = hijas['mother']\n",
    "X = sm.add_constant(X)\n",
    "X.head()"
   ]
  },
  {
   "cell_type": "code",
   "execution_count": null,
   "id": "5db85935",
   "metadata": {},
   "outputs": [],
   "source": [
    "#Ejecucion del modelo\n",
    "model = sm.OLS(Y, X, missing='drop')\n",
    "model_result = model.fit()\n",
    "model_result.summary()"
   ]
  },
  {
   "cell_type": "markdown",
   "id": "a2127038",
   "metadata": {},
   "source": [
    "#### Prueba de normalidad"
   ]
  },
  {
   "cell_type": "code",
   "execution_count": null,
   "id": "d1b9f35f",
   "metadata": {},
   "outputs": [],
   "source": [
    "#Histograma de residuos\n",
    "sns.histplot(model_result.resid)"
   ]
  },
  {
   "cell_type": "code",
   "execution_count": null,
   "id": "2dfd315b",
   "metadata": {},
   "outputs": [],
   "source": [
    "#Prueba de normalidad (Prueba de Shapiro-Wilk)\n",
    "_, p_value_shapiro = stats.shapiro(model_result.resid)\n",
    "print(\"\\nPrueba de normalidad (Prueba de Shapiro-Wilk):\")\n",
    "print(\"Estadístico de prueba:\", p_value_shapiro)"
   ]
  },
  {
   "cell_type": "markdown",
   "id": "47940a28",
   "metadata": {},
   "source": [
    "Resultado: Si el valor p es mayor que el umbral de significancia (por ejemplo, 0.05), se concluye que no hay suficiente evidencia para rechazar la hipótesis nula y se puede asumir que los residuos siguen una distribución normal. "
   ]
  },
  {
   "cell_type": "code",
   "execution_count": null,
   "id": "abd78aa2",
   "metadata": {},
   "outputs": [],
   "source": [
    "#QQ - plot\n",
    "qqplot(model_result.resid, line='s')\n",
    "plt.title('Gráfico QQ de los residuos')\n",
    "plt.show()"
   ]
  },
  {
   "cell_type": "raw",
   "id": "1e3c9541",
   "metadata": {},
   "source": [
    "Mientras más pegados estén los puntos a la diagonal, más cierta es la suposición de normalidad"
   ]
  },
  {
   "cell_type": "markdown",
   "id": "6b580cf6",
   "metadata": {},
   "source": [
    "#### Prueba de homogenidad de varianza"
   ]
  },
  {
   "cell_type": "code",
   "execution_count": null,
   "id": "a130048b",
   "metadata": {},
   "outputs": [],
   "source": [
    "#(Prueba de Levene)\n",
    "_, p_value_levene = stats.levene(y, model_result.predict(X))\n",
    "print(\"Prueba de homogeneidad de varianza (Prueba de Levene):\")\n",
    "print(\"Estadístico de prueba:\", p_value_levene)"
   ]
  },
  {
   "cell_type": "markdown",
   "id": "50655f7e",
   "metadata": {},
   "source": [
    "Si el valor p es mayor que el nivel de significancia elegido, no se rechaza la hipótesis nula y se concluye que no hay suficiente evidencia para afirmar que las varianzas son diferentes"
   ]
  },
  {
   "cell_type": "markdown",
   "id": "1561600b",
   "metadata": {},
   "source": [
    "#### Prueba de independencia"
   ]
  },
  {
   "cell_type": "code",
   "execution_count": null,
   "id": "c6eacb4a",
   "metadata": {},
   "outputs": [],
   "source": [
    "# Análisis de residuos\n",
    "plt.scatter(model_result.predict(X), model_result.resid)\n",
    "plt.xlabel('Valores predichos')\n",
    "plt.ylabel('Residuos')\n",
    "plt.title('Análisis de residuos')\n",
    "plt.axhline(y=0, color='r', linestyle='--')\n",
    "plt.show()"
   ]
  },
  {
   "cell_type": "code",
   "execution_count": null,
   "id": "4829f405",
   "metadata": {},
   "outputs": [],
   "source": [
    "#Prueba de autocorrelacion de durbin watson"
   ]
  },
  {
   "cell_type": "code",
   "execution_count": null,
   "id": "18cf47ed",
   "metadata": {},
   "outputs": [],
   "source": [
    "durbin_watson = sm.stats.stattools.durbin_watson(model_result.resid)\n",
    "print(\"Prueba de homogeneidad de varianza (Prueba de durbin watson):\")\n",
    "print(\"Estadístico de prueba:\", durbin_watson)"
   ]
  },
  {
   "cell_type": "markdown",
   "id": "ec414a9c",
   "metadata": {},
   "source": [
    "Si esta cerca de 2 no existe autocorrelacion.\n",
    "Si esta cerca de 0 o 4, indica autocorrelación positiva o negativa, respectivamente."
   ]
  },
  {
   "cell_type": "markdown",
   "id": "42171d28",
   "metadata": {},
   "source": [
    "El modelo es estadisticamente significativo  \n",
    "Los efectos de las variables independientes (altura de las madres) son estd. sign  \n",
    "Se comprobó la normalidad de los residuos  \n",
    "El estadistico de Levene no demuestra de forma concluyente q no exista Homosedasticidad  \n",
    "El estadítico de DW no es concluyente sobre las autocorrelacion de los residuos  \n",
    "El estadistico Rcuadrado es bastante bajo, 0.098  \n",
    "\n",
    "Por lo expuesto, el modelo es muy débil además que puede no cumplir con todos los supuestos necesarios.\n",
    "La altura de los hijos no depende solamente de la altura de las madres, deben incluirse tambien otros efectos para determinar o crear un modelo más preciso."
   ]
  },
  {
   "cell_type": "code",
   "execution_count": null,
   "id": "38a337fc",
   "metadata": {},
   "outputs": [],
   "source": []
  }
 ],
 "metadata": {
  "kernelspec": {
   "display_name": "Python 3 (ipykernel)",
   "language": "python",
   "name": "python3"
  },
  "language_info": {
   "codemirror_mode": {
    "name": "ipython",
    "version": 3
   },
   "file_extension": ".py",
   "mimetype": "text/x-python",
   "name": "python",
   "nbconvert_exporter": "python",
   "pygments_lexer": "ipython3",
   "version": "3.12.7"
  }
 },
 "nbformat": 4,
 "nbformat_minor": 5
}
