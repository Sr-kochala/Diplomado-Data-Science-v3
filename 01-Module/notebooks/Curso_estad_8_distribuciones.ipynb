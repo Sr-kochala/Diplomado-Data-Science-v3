{
 "cells": [
  {
   "cell_type": "markdown",
   "id": "fec50725",
   "metadata": {},
   "source": [
    "### Probabilidad Binomial"
   ]
  },
  {
   "cell_type": "code",
   "execution_count": null,
   "id": "d6fecdc2",
   "metadata": {},
   "outputs": [],
   "source": [
    "#pip install --upgrade numpy"
   ]
  },
  {
   "cell_type": "code",
   "execution_count": null,
   "id": "4badc650",
   "metadata": {},
   "outputs": [],
   "source": [
    "import matplotlib.pyplot as plt\n",
    "import numpy as np\n",
    "from scipy.stats import binom "
   ]
  },
  {
   "cell_type": "code",
   "execution_count": null,
   "id": "ffa965cd",
   "metadata": {},
   "outputs": [],
   "source": [
    "import matplotlib.pyplot as plt\n",
    "import numpy as np\n",
    "from scipy.stats import binom #conjunto de librerias estadisticas\n",
    "\n",
    "n = 10  # número de ensayos\n",
    "p = 0.5  # probabilidad de éxito en cada ensayo\n",
    "\n",
    "# Generar los valores de x (número de éxitos) y sus probabilidades correspondientes\n",
    "x = np.arange(0, n+1)\n",
    "pmf =  binom.pmf(x, n,p)\n",
    "cdf = binom.cdf(x, n, p)\n",
    "\n",
    "# Graficar la función de masa de probabilidad (PMF)\n",
    "plt.subplot(2, 1, 1)\n",
    "plt.bar(x, pmf)\n",
    "plt.xlabel('Número de éxitos')\n",
    "plt.ylabel('Probabilidad')\n",
    "plt.title('Función de Masa de Probabilidad (PMF)')\n",
    "\n",
    "# Graficar la función acumulada de probabilidad (CDF)\n",
    "plt.subplot(2, 1, 2)\n",
    "plt.plot(x, cdf, marker='o', linestyle='-', drawstyle='steps-post')\n",
    "plt.xlabel('Número de éxitos')\n",
    "plt.ylabel('Probabilidad acumulada')\n",
    "plt.title('Función Acumulada de Probabilidad (CDF)')\n",
    "\n",
    "plt.tight_layout()\n",
    "plt.show()\n"
   ]
  },
  {
   "cell_type": "code",
   "execution_count": null,
   "id": "53ccf533",
   "metadata": {},
   "outputs": [],
   "source": [
    "x"
   ]
  },
  {
   "cell_type": "markdown",
   "id": "3b0be47e",
   "metadata": {},
   "source": [
    "#### Ejercicio Hijas"
   ]
  },
  {
   "cell_type": "code",
   "execution_count": null,
   "id": "995128d8",
   "metadata": {},
   "outputs": [],
   "source": [
    "p = 0.5\n",
    "n = 8\n",
    "x = 7\n",
    "mdf1 = binom.pmf(x, n, p)\n",
    "mdf1"
   ]
  },
  {
   "cell_type": "code",
   "execution_count": null,
   "id": "594632f7",
   "metadata": {},
   "outputs": [],
   "source": [
    "p = 0.5\n",
    "n = 8\n",
    "x = 8\n",
    "mdf2 = binom.pmf(x, n, p)\n",
    "mdf2"
   ]
  },
  {
   "cell_type": "code",
   "execution_count": null,
   "id": "914d7812",
   "metadata": {},
   "outputs": [],
   "source": [
    "mdf1+mdf2"
   ]
  },
  {
   "cell_type": "code",
   "execution_count": null,
   "id": "ab0fb17d",
   "metadata": {},
   "outputs": [],
   "source": [
    "p = 0.5\n",
    "n = 8\n",
    "x = 6\n",
    "cdf = binom.cdf(x, n, p)\n",
    "cdf"
   ]
  },
  {
   "cell_type": "code",
   "execution_count": null,
   "id": "bf7aaaca",
   "metadata": {},
   "outputs": [],
   "source": [
    "1-cdf"
   ]
  },
  {
   "cell_type": "code",
   "execution_count": null,
   "id": "9882105e",
   "metadata": {},
   "outputs": [],
   "source": [
    "x = np.arange(1, 5)\n",
    "x"
   ]
  },
  {
   "cell_type": "code",
   "execution_count": null,
   "id": "077f9f65",
   "metadata": {},
   "outputs": [],
   "source": [
    "n = 5\n",
    "x = 2\n",
    "p = 0.2\n",
    "p_2 = binom.pmf(x, n, p)\n",
    "print('la prob. de que gane exactamente dos veces es:')\n",
    "print(p_2)"
   ]
  },
  {
   "cell_type": "code",
   "execution_count": null,
   "id": "10eb7bed",
   "metadata": {},
   "outputs": [],
   "source": [
    "# Ejercicio1\n"
   ]
  },
  {
   "cell_type": "code",
   "execution_count": null,
   "id": "aa32562f",
   "metadata": {},
   "outputs": [],
   "source": [
    "#Ejercicio2\n"
   ]
  },
  {
   "cell_type": "code",
   "execution_count": null,
   "id": "99e03a5d",
   "metadata": {},
   "outputs": [],
   "source": [
    "#Distribución normal\n",
    "import matplotlib.pyplot as plt\n",
    "import numpy as np\n",
    "from scipy.stats import norm\n",
    "\n",
    "# Generar los cuantiles para una distribución normal estándar\n",
    "quantiles = np.array([0.001, 0.025, 0.16, 0.5, 0.84, 0.975, 0.999])  # Cuantiles correspondientes al 2.5%, 16%, 50%, 84% y 97.5%\n",
    "quantile_values = norm.ppf(quantiles)  # Valores correspondientes a los cuantiles\n",
    "\n",
    "quantile_values\n"
   ]
  },
  {
   "cell_type": "code",
   "execution_count": null,
   "id": "07ad8118",
   "metadata": {},
   "outputs": [],
   "source": [
    "# Graficar la distribución normal estándar con líneas verticales para los cuantiles\n",
    "x = np.linspace(-4, 4, 100)  # Rango de valores para la distribución normal estándar\n",
    "y = norm.pdf(x, 0, 1)  # Función de densidad de probabilidad para la distribución normal estándar\n",
    "\n",
    "plt.plot(x, y, 'b-', label='Distribución Normal Estándar')\n",
    "plt.xlabel('Valores')\n",
    "plt.ylabel('Densidad de Probabilidad')\n",
    "plt.title('Distribución Normal Estándar y Cuantiles')\n",
    "plt.legend()\n",
    "\n",
    "# Agregar líneas verticales para los cuantiles\n",
    "for q in quantile_values:\n",
    "    plt.axvline(x=q, color='r', linestyle='--', alpha=0.7)\n",
    "\n",
    "plt.show()"
   ]
  },
  {
   "cell_type": "code",
   "execution_count": null,
   "id": "6b8ad8de",
   "metadata": {},
   "outputs": [],
   "source": [
    "#Para obtner el valor de Z\n",
    "norm.ppf(0.975, 0, 1)"
   ]
  },
  {
   "cell_type": "code",
   "execution_count": null,
   "id": "b99290d8-1297-4496-8e4d-10ef0410821d",
   "metadata": {},
   "outputs": [],
   "source": [
    "mu = 29\n",
    "s = 4.73\n",
    "p = 0.95\n",
    "percentil = norm.ppf(p, mu, s)\n",
    "print(percentil)"
   ]
  },
  {
   "cell_type": "code",
   "execution_count": null,
   "id": "3d903f37-da6c-4c91-91f8-993d5cec7305",
   "metadata": {},
   "outputs": [],
   "source": [
    "29+4.73*percentil"
   ]
  },
  {
   "cell_type": "markdown",
   "id": "f2f6503b",
   "metadata": {},
   "source": [
    "### Distribucion de Poisson"
   ]
  },
  {
   "cell_type": "code",
   "execution_count": null,
   "id": "356146d2",
   "metadata": {},
   "outputs": [],
   "source": [
    "\n",
    "from scipy.stats import poisson as pois"
   ]
  },
  {
   "cell_type": "code",
   "execution_count": null,
   "id": "e9c6f1fa",
   "metadata": {},
   "outputs": [],
   "source": [
    "lambda_hat = 2.5 * 4"
   ]
  },
  {
   "cell_type": "code",
   "execution_count": null,
   "id": "d7d91b1e",
   "metadata": {},
   "outputs": [],
   "source": [
    "pois.pmf(3, lambda_hat)+pois.pmf(2,lambda_hat)+pois.pmf(1, lambda_hat)+pois.pmf(0,lambda_hat)"
   ]
  },
  {
   "cell_type": "code",
   "execution_count": null,
   "id": "1f610389",
   "metadata": {},
   "outputs": [],
   "source": [
    "pois.cdf(3, lambda_hat)"
   ]
  },
  {
   "cell_type": "markdown",
   "id": "36d0cde8",
   "metadata": {},
   "source": [
    "### Pregunta 1"
   ]
  },
  {
   "cell_type": "code",
   "execution_count": null,
   "id": "22715fc9",
   "metadata": {},
   "outputs": [],
   "source": [
    "from scipy.stats import binom\n",
    "b_cdf = binom.cdf(50, 500, 0.1)"
   ]
  },
  {
   "cell_type": "code",
   "execution_count": null,
   "id": "c69dae3a",
   "metadata": {},
   "outputs": [],
   "source": [
    "b_cdf"
   ]
  },
  {
   "cell_type": "code",
   "execution_count": null,
   "id": "b91eb17e",
   "metadata": {},
   "outputs": [],
   "source": [
    "p_cdf = pois.cdf(50 ,500*.1)"
   ]
  },
  {
   "cell_type": "code",
   "execution_count": null,
   "id": "97c4b431",
   "metadata": {},
   "outputs": [],
   "source": [
    "p_cdf"
   ]
  },
  {
   "cell_type": "code",
   "execution_count": null,
   "id": "afc1ee56",
   "metadata": {},
   "outputs": [],
   "source": []
  }
 ],
 "metadata": {
  "kernelspec": {
   "display_name": "Python 3 (ipykernel)",
   "language": "python",
   "name": "python3"
  },
  "language_info": {
   "codemirror_mode": {
    "name": "ipython",
    "version": 3
   },
   "file_extension": ".py",
   "mimetype": "text/x-python",
   "name": "python",
   "nbconvert_exporter": "python",
   "pygments_lexer": "ipython3",
   "version": "3.12.7"
  }
 },
 "nbformat": 4,
 "nbformat_minor": 5
}
