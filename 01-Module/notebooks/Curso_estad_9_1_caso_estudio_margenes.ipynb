{
 "cells": [
  {
   "cell_type": "markdown",
   "id": "82681d6d-6ac4-4e47-9274-c4d96cdd6500",
   "metadata": {},
   "source": [
    "**Caso de Estudio con Intervalos**"
   ]
  },
  {
   "cell_type": "code",
   "execution_count": null,
   "id": "0fc3b646",
   "metadata": {},
   "outputs": [],
   "source": [
    "%matplotlib inline\n",
    "import matplotlib.pyplot as plt\n",
    "import pandas as pd\n",
    "import numpy as np\n",
    "import seaborn as sns\n",
    "import statsmodels.api as sm\n",
    "from scipy.stats import norm\n",
    "pd.set_option('display.float_format', '{:.4f}'.format)"
   ]
  },
  {
   "cell_type": "code",
   "execution_count": null,
   "id": "c0c8037b",
   "metadata": {},
   "outputs": [],
   "source": [
    "#Datos de encuestas\n",
    "datos = pd.read_csv(\"nhanes_2015_2016.csv\")"
   ]
  },
  {
   "cell_type": "code",
   "execution_count": null,
   "id": "49ceded3",
   "metadata": {},
   "outputs": [],
   "source": [
    "datos.head()"
   ]
  },
  {
   "cell_type": "code",
   "execution_count": null,
   "id": "2e757e29",
   "metadata": {},
   "outputs": [],
   "source": [
    "datos.shape"
   ]
  },
  {
   "cell_type": "markdown",
   "id": "f9b9dc74",
   "metadata": {},
   "source": [
    "### Analisis de fumadores para hombre y mujeres"
   ]
  },
  {
   "cell_type": "code",
   "execution_count": null,
   "id": "ffed6359",
   "metadata": {},
   "outputs": [],
   "source": [
    "# Comparacion empirica"
   ]
  },
  {
   "cell_type": "code",
   "execution_count": null,
   "id": "4a5fe1c4",
   "metadata": {},
   "outputs": [],
   "source": [
    "#Codificaremos dos variables de interes SMQ020: si es fumador o no, RIAGENDR: Genero\n",
    "datos[\"RIAGENDRx\"] = datos.RIAGENDR.replace({1: \"Hombre\", 2: \"Mujer\"})\n",
    "datos[\"SMQ020x\"] = datos.SMQ020.replace({1: \"Si\", 2: \"No\", 7: np.nan, 9: np.nan})  "
   ]
  },
  {
   "cell_type": "code",
   "execution_count": null,
   "id": "f66ded5f",
   "metadata": {},
   "outputs": [],
   "source": [
    "#Revisando las frecuencias con un atabla cruzada\n",
    "datosX = datos[['RIAGENDRx', 'SMQ020x']]\n",
    "pd.crosstab(datosX['RIAGENDRx'], datosX['SMQ020x'])"
   ]
  },
  {
   "cell_type": "code",
   "execution_count": null,
   "id": "405f43d4",
   "metadata": {},
   "outputs": [],
   "source": [
    "pd.crosstab(datosX['RIAGENDRx'], datosX['SMQ020x'], normalize=True)"
   ]
  },
  {
   "cell_type": "code",
   "execution_count": null,
   "id": "c1142db9",
   "metadata": {},
   "outputs": [],
   "source": [
    "#Obteniendo las proporciones por filas\n",
    "datosZ = datosX.groupby(datosX.RIAGENDRx).agg({\"SMQ020x\": [lambda x: np.mean(x==\"Si\"), np.size]})\n",
    "datosZ.columns = [\"p_fila\", \"Total_n\"] \n",
    "datosZ"
   ]
  },
  {
   "cell_type": "code",
   "execution_count": null,
   "id": "e6f2c3c9",
   "metadata": {},
   "outputs": [],
   "source": [
    "#Calculemos el error estandar\n",
    "##Para muejres\n",
    "p = datosZ.p_fila.Mujer \n",
    "n = datosZ.Total_n.Mujer \n",
    "se_mujer = np.sqrt(p * (1 - p) / n)\n",
    "print(se_mujer)\n",
    "\n",
    "#Para hombres\n",
    "p = datosZ.p_fila.Hombre \n",
    "n = datosZ.Total_n.Hombre  \n",
    "se_hombre = np.sqrt(p * (1 - p) / n)\n",
    "print(se_hombre)"
   ]
  },
  {
   "cell_type": "code",
   "execution_count": null,
   "id": "551d7eae",
   "metadata": {},
   "outputs": [],
   "source": [
    "#¿Cuáles son sus conclusiones sobre los errores y las proporciones?"
   ]
  },
  {
   "cell_type": "code",
   "execution_count": null,
   "id": "342dbc1a",
   "metadata": {},
   "outputs": [],
   "source": [
    "#Cálculo de los intervalos de confianza, al 95%\n",
    "#Mujeres\n",
    "p = datosZ.p_fila.Mujer \n",
    "n = datosZ.Total_n.Mujer \n",
    "lic = p - 1.96 * np.sqrt(p * (1 - p) / n)  \n",
    "lsc = p + 1.96 * np.sqrt(p * (1 - p) / n)  \n",
    "print(lic, lsc)"
   ]
  },
  {
   "cell_type": "code",
   "execution_count": null,
   "id": "ea2bc9fe",
   "metadata": {},
   "outputs": [],
   "source": [
    "#Cálculo de los intervalos de confianza, al 95%\n",
    "#Hombres\n",
    "p = datosZ.p_fila.Hombre \n",
    "n = datosZ.Total_n.Hombre \n",
    "lic = p - 1.96 * np.sqrt(p * (1 - p) / n)  \n",
    "lsc = p + 1.96 * np.sqrt(p * (1 - p) / n)  \n",
    "print(lic, lsc)"
   ]
  },
  {
   "cell_type": "code",
   "execution_count": null,
   "id": "8129f267",
   "metadata": {},
   "outputs": [],
   "source": [
    "#la libreria statsmodels tb los puede sacar directamente\n",
    "cb_mujeres = sm.stats.proportion_confint(906, 906+2066)\n",
    "cb_hombres = sm.stats.proportion_confint(1413, 1413+1340)  \n",
    "print(cb_mujeres)\n",
    "print(cb_hombres)"
   ]
  },
  {
   "cell_type": "code",
   "execution_count": null,
   "id": "5722b97f",
   "metadata": {},
   "outputs": [],
   "source": [
    "#¿A que conclusiones llegampos con estos intervalos?"
   ]
  },
  {
   "cell_type": "markdown",
   "id": "a522dd9c",
   "metadata": {},
   "source": [
    "### Intervalos de confianza apara Muestras Independientes"
   ]
  },
  {
   "cell_type": "code",
   "execution_count": null,
   "id": "8e702167",
   "metadata": {},
   "outputs": [],
   "source": [
    "#Ahora que pasa con la diferencia mujeresVshombres?\n",
    "datosZ.p_fila.Mujer - datosZ.p_fila.Hombre"
   ]
  },
  {
   "cell_type": "code",
   "execution_count": null,
   "id": "2b02a7fb",
   "metadata": {},
   "outputs": [],
   "source": [
    "#calculo del error estándar de la diferencia de medias\n",
    "se_dif = np.sqrt(se_mujer**2 + se_hombre**2)\n",
    "se_dif"
   ]
  },
  {
   "cell_type": "code",
   "execution_count": null,
   "id": "b51c35d7",
   "metadata": {},
   "outputs": [],
   "source": [
    "#calculo de los limites de confianza de la diferencia de medias\n",
    "dif = datosZ.p_fila.Mujer - datosZ.p_fila.Hombre\n",
    "lic = dif - 1.96*se_dif\n",
    "lsc = dif + 1.96*se_dif\n",
    "print(lic, lsc)"
   ]
  },
  {
   "cell_type": "markdown",
   "id": "b020e3bd",
   "metadata": {},
   "source": [
    "### Intervalos de confianza para segmentos, edad y sexo"
   ]
  },
  {
   "cell_type": "code",
   "execution_count": null,
   "id": "43243175",
   "metadata": {},
   "outputs": [],
   "source": [
    "#agrupando\n",
    "datos[\"agegrp\"] = pd.cut(datos.RIDAGEYR, [18, 30, 40, 50, 60, 70, 80])\n",
    "\n",
    "#creando la tabla cruzada de proporcion de fumadores\n",
    "pr = datos.groupby([\"agegrp\", \"RIAGENDRx\"]).agg({\"SMQ020x\": lambda x: np.mean(x==\"Si\")}).unstack()\n",
    "pr.columns = [\"Hombre\", \"Mujer\"]\n",
    "\n",
    "#creando la tabla cruzada de numero de fumadores\n",
    "datosN = datos.groupby([\"agegrp\", \"RIAGENDRx\"]).agg({\"SMQ020x\": np.size}).unstack()\n",
    "datosN.columns = [\"Hombre\", \"Mujer\"]\n",
    "\n",
    "#error estandar para la proporcion\n",
    "se = np.sqrt(pr * (1 - pr) / datosN)\n",
    "\n",
    "#error estandar para la diferencia de fumadores en cada grupo de sexo/edad\n",
    "se_diff = np.sqrt(se.Mujer**2 + se.Hombre**2)\n"
   ]
  },
  {
   "cell_type": "code",
   "execution_count": null,
   "id": "8210ea87",
   "metadata": {},
   "outputs": [],
   "source": [
    "datosN"
   ]
  },
  {
   "cell_type": "code",
   "execution_count": null,
   "id": "18849855",
   "metadata": {},
   "outputs": [],
   "source": [
    "se_diff"
   ]
  },
  {
   "cell_type": "code",
   "execution_count": null,
   "id": "d8963729",
   "metadata": {},
   "outputs": [],
   "source": [
    "# Errores estándar para la diferencia en las tasas de fumadores entre géneros, dentro de cada grupo de edad\n",
    "\n",
    "pq = pr.Mujer - pr.Hombre\n",
    "x = np.arange(pq.size)\n",
    "\n",
    "pp = sns.scatterplot(x=x, y=pq.values, color='b')\n",
    "sns.scatterplot(x=x, y=pq - 2*se_diff, color = 'g')\n",
    "sns.scatterplot(x=x, y=pq + 2*se_diff, color = 'g')\n",
    "pp.set_xticklabels(pq.index)\n",
    "pp.set_xlabel(\"edad\")\n",
    "pp.set_ylabel(\"Mujer-Hombre diferencia de Proporciones\")"
   ]
  },
  {
   "cell_type": "markdown",
   "id": "878fab63",
   "metadata": {},
   "source": [
    "## Intervalos de confianza para Medias, indice de masa corporal (IMC = BMI)"
   ]
  },
  {
   "cell_type": "code",
   "execution_count": null,
   "id": "1f530766",
   "metadata": {},
   "outputs": [],
   "source": [
    "datos.groupby(\"RIAGENDRx\").agg({\"BMXBMI\": np.mean})"
   ]
  },
  {
   "cell_type": "code",
   "execution_count": null,
   "id": "27da6e21",
   "metadata": {},
   "outputs": [],
   "source": [
    "datos.groupby(\"RIAGENDRx\").agg({\"BMXBMI\": [np.mean, np.std, np.size]})"
   ]
  },
  {
   "cell_type": "code",
   "execution_count": null,
   "id": "52d451fa",
   "metadata": {},
   "outputs": [],
   "source": [
    "sem_mujer = 7.753 / np.sqrt(2976)\n",
    "sem_hombre = 6.253 / np.sqrt(2759)\n",
    "print(sem_mujer, sem_hombre)"
   ]
  },
  {
   "cell_type": "code",
   "execution_count": null,
   "id": "aaae7a27",
   "metadata": {},
   "outputs": [],
   "source": [
    "lic_mujer = 29.94 - 1.96 * 7.753 / np.sqrt(2976)\n",
    "lsc_mujer = 29.94 + 1.96 * 7.753 / np.sqrt(2976)\n",
    "print(lic_mujer, lsc_mujer)"
   ]
  },
  {
   "cell_type": "code",
   "execution_count": null,
   "id": "2ddbb9a5",
   "metadata": {},
   "outputs": [],
   "source": [
    "lic_hombre = 28.7781 - 1.96 * sem_hombre\n",
    "lsc_hombre = 28.7781 + 1.96 * sem_hombre\n",
    "print(lic_hombre, lsc_hombre)"
   ]
  },
  {
   "cell_type": "code",
   "execution_count": null,
   "id": "d89e63d9",
   "metadata": {},
   "outputs": [],
   "source": [
    "mujer_bmi = datos.loc[datos.RIAGENDRx==\"Mujer\", \"BMXBMI\"].dropna()\n",
    "sm.stats.DescrStatsW(mujer_bmi).zconfint_mean()"
   ]
  },
  {
   "cell_type": "markdown",
   "id": "3b2eb71e",
   "metadata": {},
   "source": [
    "### Intervalos de confianza para Diferencia de Medias (IMC = BMI)"
   ]
  },
  {
   "cell_type": "code",
   "execution_count": null,
   "id": "92362be7",
   "metadata": {},
   "outputs": [],
   "source": [
    "sem_dif = np.sqrt(sem_mujer**2 + sem_hombre**2)\n",
    "sem_dif"
   ]
  },
  {
   "cell_type": "code",
   "execution_count": null,
   "id": "95277a6f",
   "metadata": {},
   "outputs": [],
   "source": [
    "bmi_dif= 29.94 - 28.78\n",
    "print(bmi_dif)\n",
    "lcb = bmi_dif - 1.96*sem_dif\n",
    "ucb = bmi_dif + 1.96*sem_dif\n",
    "print(lcb, ucb)"
   ]
  },
  {
   "cell_type": "code",
   "execution_count": null,
   "id": "89264457",
   "metadata": {},
   "outputs": [],
   "source": [
    "# Media, Desv est., numero de casos por grupo edad/sexo\n",
    "datos[\"agegrp\"] = pd.cut(datos.RIDAGEYR, [18, 30, 40, 50, 60, 70, 80])\n",
    "pr = datos.groupby([\"agegrp\", \"RIAGENDRx\"]).agg({\"BMXBMI\": [np.mean, np.std, np.size]}).unstack()\n",
    "\n",
    "# Error estandar promedio para hombre y mujeres por grupo de edad\n",
    "pr[\"BMXBMI\", \"sem\", \"Mujer\"] = pr[\"BMXBMI\", \"std\", \"Mujer\"] / np.sqrt(pr[\"BMXBMI\", \"size\", \"Mujer\"]) \n",
    "pr[\"BMXBMI\", \"sem\", \"Hombre\"] = pr[\"BMXBMI\", \"std\", \"Hombre\"] / np.sqrt(pr[\"BMXBMI\", \"size\", \"Hombre\"]) \n"
   ]
  },
  {
   "cell_type": "code",
   "execution_count": null,
   "id": "ea7f173c",
   "metadata": {},
   "outputs": [],
   "source": [
    "#diferencia de IMC entre mujeeres y hokmbres en cada grupo de edad, su error estandar y los intervalos de confianza, al 95%\n",
    "pr[\"BMXBMI\", \"media_dif\", \"\"] = pr[\"BMXBMI\", \"mean\", \"Mujer\"] - pr[\"BMXBMI\", \"mean\", \"Hombre\"]\n",
    "pr[\"BMXBMI\", \"sem_diff\", \"\"] = np.sqrt(pr[\"BMXBMI\", \"sem\", \"Mujer\"]**2 + pr[\"BMXBMI\", \"sem\", \"Hombre\"]**2) \n",
    "pr[\"BMXBMI\", \"lic_dif\", \"\"] = pr[\"BMXBMI\", \"media_dif\", \"\"] - 1.96 * pr[\"BMXBMI\", \"sem_diff\", \"\"] \n",
    "pr[\"BMXBMI\", \"lsc_dif\", \"\"] = pr[\"BMXBMI\", \"media_dif\", \"\"] + 1.96 * pr[\"BMXBMI\", \"sem_diff\", \"\"] \n",
    "\n"
   ]
  },
  {
   "cell_type": "code",
   "execution_count": null,
   "id": "43e440df",
   "metadata": {},
   "outputs": [],
   "source": [
    "#graficando las medias y sus intervalos\n",
    "x = np.arange(pr.shape[0])\n",
    "pp = sns.scatterplot(x=x, y=pr[\"BMXBMI\", \"media_dif\", \"\"], color='black')\n",
    "sns.scatterplot(x=x, y=pr[\"BMXBMI\", \"lic_dif\", \"\"], color='blue')\n",
    "sns.scatterplot(x=x, y=pr[\"BMXBMI\", \"lsc_dif\", \"\"], color='blue')\n",
    "pp.set_xticklabels(pr.index)\n",
    "pp.set_xlabel(\"Edad\")\n",
    "pp.set_ylabel(\"Mujer Hombre Diferencia\")"
   ]
  },
  {
   "cell_type": "code",
   "execution_count": null,
   "id": "5102bd6a",
   "metadata": {},
   "outputs": [],
   "source": []
  }
 ],
 "metadata": {
  "kernelspec": {
   "display_name": "Python 3 (ipykernel)",
   "language": "python",
   "name": "python3"
  },
  "language_info": {
   "codemirror_mode": {
    "name": "ipython",
    "version": 3
   },
   "file_extension": ".py",
   "mimetype": "text/x-python",
   "name": "python",
   "nbconvert_exporter": "python",
   "pygments_lexer": "ipython3",
   "version": "3.12.7"
  }
 },
 "nbformat": 4,
 "nbformat_minor": 5
}
