{
 "cells": [
  {
   "cell_type": "markdown",
   "id": "05fb470a",
   "metadata": {},
   "source": [
    "## Intervalos de confianza\n",
    "Msc Renzo Claure"
   ]
  },
  {
   "cell_type": "code",
   "execution_count": null,
   "id": "2dfbd259",
   "metadata": {},
   "outputs": [],
   "source": [
    "import pandas as pd\n",
    "import numpy as np\n",
    "import math\n",
    "from scipy.stats import norm"
   ]
  },
  {
   "cell_type": "code",
   "execution_count": null,
   "id": "8f4d34da",
   "metadata": {},
   "outputs": [],
   "source": [
    "galton = pd.read_csv('galton.csv')\n",
    "print(galton.shape)\n",
    "galton.head()"
   ]
  },
  {
   "cell_type": "code",
   "execution_count": null,
   "id": "51c9b742",
   "metadata": {},
   "outputs": [],
   "source": [
    "#Intervalo de confianza de la estatura del papá\n",
    "import numpy as np\n",
    "from scipy.stats import norm\n",
    "\n",
    "# Datos de muestra\n",
    "padre = galton['father']\n",
    "\n",
    "# Nivel de confianza (90%, 95%, 99%)\n",
    "nivel_confianza = [0.9, 0.95, 0.99]\n",
    "\n",
    "# Calcular la media y desviación estándar de los datos de muestra\n",
    "sample_mean = np.mean(padre)\n",
    "sample_std = np.std(padre, ddof=1)\n",
    "\n",
    "# Calcular el tamaño de la muestra\n",
    "sample_size = len(padre)\n",
    "\n"
   ]
  },
  {
   "cell_type": "code",
   "execution_count": null,
   "id": "5f74c8d5",
   "metadata": {},
   "outputs": [],
   "source": [
    "print('media_muestra:' , sample_mean)\n",
    "print('desv_est:' , sample_std)\n",
    "print('n_obs:' , sample_size)"
   ]
  },
  {
   "cell_type": "code",
   "execution_count": null,
   "id": "cf8d6b5c-c0a7-4a86-830c-fdd26f3b9ac2",
   "metadata": {},
   "outputs": [],
   "source": [
    "norm.ppf((1 + 0.99) / 2)"
   ]
  },
  {
   "cell_type": "code",
   "execution_count": null,
   "id": "45db26e8",
   "metadata": {},
   "outputs": [],
   "source": [
    "# Calcular el valor crítico de la distribución normal estándar para cada nivel de confianza\n",
    "critical_values = [norm.ppf((1 + confidence) / 2) for confidence in nivel_confianza]\n",
    "\n",
    "# Calcular el error estándar\n",
    "standard_error = sample_std / np.sqrt(sample_size)\n",
    "\n",
    "# Calcular los límites del intervalo de confianza para cada nivel\n",
    "confidence_intervals = [\n",
    "    (sample_mean - critical_value * standard_error, sample_mean + critical_value * standard_error)\n",
    "    for critical_value in critical_values\n",
    "]\n",
    "\n",
    "# Imprimir los intervalos de confianza\n",
    "for i, confidence_interval in enumerate(confidence_intervals):\n",
    "    confidence_level = nivel_confianza[i]\n",
    "    print(f\"Intervalo de confianza al {confidence_level*100}%: {confidence_interval}\")"
   ]
  },
  {
   "cell_type": "code",
   "execution_count": null,
   "id": "1364e55c",
   "metadata": {},
   "outputs": [],
   "source": [
    "critical_values"
   ]
  },
  {
   "cell_type": "code",
   "execution_count": null,
   "id": "7c5468e4",
   "metadata": {},
   "outputs": [],
   "source": [
    "#intervalo de confianza para los votantes\n",
    "import math\n",
    "from scipy.stats import norm\n",
    "\n",
    "n = 100  # Tamaño de la muestra\n",
    "p = 56 / n  # Proporción observada\n",
    "\n",
    "confidence_level = 0.95  # Nivel de confianza\n",
    "\n",
    "# Calcular el error estándar utilizando la fórmula de proporción\n",
    "standard_error = math.sqrt((p * (1 - p)) / n)\n",
    "\n",
    "# Calcular el valor crítico de la distribución normal estándar para el nivel de confianza dado\n",
    "z_critical = norm.ppf((1 + confidence_level) / 2)\n",
    "\n",
    "# Calcular los límites del intervalo de confianza\n",
    "lic = p - z_critical * standard_error\n",
    "lsc = p + z_critical * standard_error\n",
    "\n",
    "print(f\"Intervalo de confianza del {confidence_level * 100}%: ({lic:.3f}, {lsc:.3f})\")\n"
   ]
  },
  {
   "cell_type": "code",
   "execution_count": null,
   "id": "d190614c",
   "metadata": {},
   "outputs": [],
   "source": [
    "from statsmodels.stats.proportion import proportion_confint\n",
    "\n",
    "exitos = 56\n",
    "n = 100\n",
    "\n",
    "conf_int = proportion_confint(exitos, n, method='wilson')\n",
    "\n",
    "print(\"Intervalo de confianza:\", conf_int)"
   ]
  },
  {
   "cell_type": "markdown",
   "id": "59affbe6",
   "metadata": {},
   "source": [
    "## Cobertura"
   ]
  },
  {
   "cell_type": "code",
   "execution_count": null,
   "id": "a3c7265e",
   "metadata": {},
   "outputs": [],
   "source": [
    "#simulacion de intérvalo de confianza de Wald\n",
    "#mientras más grande es n, mas cobertura se tiene\n",
    "import numpy as np\n",
    "import matplotlib.pyplot as plt\n",
    "from scipy.stats import binom, norm\n",
    "\n",
    "n = 20\n",
    "pvals = np.arange(0.1, 0.9, 0.05)\n",
    "nosim = 1000\n",
    "\n",
    "coverage = []\n",
    "for p in pvals:\n",
    "    phats = binom.rvs(n=n, p=p, size=nosim) / n\n",
    "    ll = phats - norm.ppf(0.975) * np.sqrt(phats * (1 - phats) / n)\n",
    "    ul = phats + norm.ppf(0.975) * np.sqrt(phats * (1 - phats) / n)\n",
    "    coverage.append(np.mean((ll < p) & (ul > p)))\n",
    "   \n",
    "\n",
    "# Graficar\n",
    "plt.plot(pvals, coverage, marker='o')\n",
    "plt.axhline(y=0.95, color='gray', linestyle='dashed')\n",
    "plt.ylim(0.5, 1)\n",
    "plt.xlabel('Proporción real')\n",
    "plt.ylabel('Cobertura')\n",
    "plt.title('Cobertura del intervalo de Wald')\n",
    "plt.show()\n",
    "\n",
    "#Por que tan poca cobertura\n",
    "#Como afecta n\n",
    "#Como corregirla  (+2/n+4)"
   ]
  },
  {
   "cell_type": "code",
   "execution_count": null,
   "id": "2841c1ab",
   "metadata": {},
   "outputs": [],
   "source": [
    "#Una compresora falló 5 veces en 94,32 días. Calcule el 95% de intervalo de confianza para el ratio de falla por día."
   ]
  },
  {
   "cell_type": "code",
   "execution_count": null,
   "id": "aba2b1fe",
   "metadata": {},
   "outputs": [],
   "source": [
    "import numpy as np\n",
    "from scipy.stats import norm\n",
    "\n",
    "# Datos del problema\n",
    "x = 5\n",
    "t = 94.32\n",
    "\n",
    "# Calcular la tasa observada (lambda hat)\n",
    "lambda_hat = x / t\n",
    "\n",
    "# Nivel de confianza del 95%\n",
    "confianza = 0.95\n",
    "alpha = 1 - confianza\n",
    "\n",
    "# Calcular el valor crítico Z_alpha/2 para la distribución normal estándar\n",
    "valor_critico = norm.ppf(1 - alpha/2)\n",
    "\n",
    "# Calcular los límites del intervalo de confianza\n",
    "limite_inferior = lambda_hat - valor_critico * np.sqrt(lambda_hat / t)\n",
    "limite_superior = lambda_hat + valor_critico * np.sqrt(lambda_hat / t)\n",
    "\n",
    "# Redondear los resultados a 3 decimales\n",
    "limite_inferior = round(limite_inferior, 3)\n",
    "limite_superior = round(limite_superior, 3)\n",
    "\n",
    "# Imprimir los resultados\n",
    "print(f\"Intervalo de confianza al {confianza * 100}% para la tasa de falla por día:\")\n",
    "print(f\"Limite inferior: {limite_inferior}\")\n",
    "print(f\"Limite superior: {limite_superior}\")\n"
   ]
  },
  {
   "cell_type": "markdown",
   "id": "c317c2cd-a0d9-4860-9e7f-5cfc0ed1861e",
   "metadata": {},
   "source": [
    "### Intervalo de Poisson"
   ]
  },
  {
   "cell_type": "code",
   "execution_count": null,
   "id": "f24a820e",
   "metadata": {},
   "outputs": [],
   "source": [
    "from scipy.stats import poisson\n",
    "import numpy as np\n",
    "\n",
    "# Datos del problema\n",
    "x = 5\n",
    "t = 94.32\n",
    "\n",
    "# Calcular la tasa observada (lambda hat)\n",
    "lambda_hat = x / t\n",
    "\n",
    "# Realizar la prueba de Poison y obtener el intervalo de confianza\n",
    "resultado_prueba = poisson.interval(0.95, x/t )\n",
    "\n",
    "# Escalar el intervalo según la tasa observada\n",
    "limite_inferior = lambda_hat * np.exp(resultado_prueba[0])\n",
    "limite_superior = lambda_hat * np.exp(resultado_prueba[1])\n",
    "\n",
    "# Imprimir los resultados\n",
    "print(f\"Intervalo de confianza al 95% para la tasa de falla por día:\")\n",
    "print(f\"Limite inferior: {limite_inferior:.4f}\")\n",
    "print(f\"Limite superior: {limite_superior:.4f}\")\n"
   ]
  },
  {
   "cell_type": "code",
   "execution_count": null,
   "id": "2f7d9a6b-0afd-42c3-b57a-73dc64cc78e4",
   "metadata": {},
   "outputs": [],
   "source": [
    "resultado_prueba"
   ]
  },
  {
   "cell_type": "code",
   "execution_count": null,
   "id": "320b26ac",
   "metadata": {},
   "outputs": [],
   "source": [
    "import numpy as np\n",
    "import matplotlib.pyplot as plt\n",
    "from scipy.stats import norm\n",
    "\n",
    "lambdavals = np.arange(0.005, 0.1, 0.01)\n",
    "nosim = 1000\n",
    "t = 1000\n",
    "coverage = np.zeros(len(lambdavals))\n",
    "\n",
    "for i in range(len(lambdavals)):\n",
    "    lambda_val = lambdavals[i]\n",
    "    lhats = np.random.poisson(lam=lambda_val * t, size=nosim) / t\n",
    "    ll = lhats - norm.ppf(0.975) * np.sqrt(lhats / t)\n",
    "    ul = lhats + norm.ppf(0.975) * np.sqrt(lhats / t)\n",
    "    coverage[i] = np.mean((ll < lambda_val) & (ul > lambda_val))\n",
    "\n",
    "plt.plot(lambdavals, coverage, marker='o')\n",
    "plt.xlabel('Lambda')\n",
    "plt.ylabel('Cobertura')\n",
    "plt.title('Cobertura del intervalo de confianza asintótico de poisson')\n",
    "plt.grid(True)\n",
    "plt.show()\n"
   ]
  },
  {
   "cell_type": "code",
   "execution_count": null,
   "id": "ac717f1e",
   "metadata": {},
   "outputs": [],
   "source": [
    "# Ejercicio Flores"
   ]
  },
  {
   "cell_type": "code",
   "execution_count": null,
   "id": "bc9995a2",
   "metadata": {},
   "outputs": [],
   "source": [
    "from sklearn import datasets\n",
    "\n",
    "iris = datasets.load_iris()\n",
    "\n",
    "X = iris.data  \n",
    "y = iris.target  "
   ]
  },
  {
   "cell_type": "code",
   "execution_count": null,
   "id": "f06e194e",
   "metadata": {},
   "outputs": [],
   "source": [
    "iris.feature_names"
   ]
  },
  {
   "cell_type": "code",
   "execution_count": null,
   "id": "f41b0261",
   "metadata": {},
   "outputs": [],
   "source": [
    "S = X[:,0]"
   ]
  },
  {
   "cell_type": "code",
   "execution_count": null,
   "id": "6a11b61f-2185-436d-ac76-287b630d1a9d",
   "metadata": {},
   "outputs": [],
   "source": [
    "S"
   ]
  },
  {
   "cell_type": "code",
   "execution_count": null,
   "id": "065fdc85-cb65-4220-a8b2-f763bd24d7e8",
   "metadata": {},
   "outputs": [],
   "source": [
    "len(y)"
   ]
  },
  {
   "cell_type": "code",
   "execution_count": null,
   "id": "e79b3fdd",
   "metadata": {},
   "outputs": [],
   "source": [
    "sample_mean = np.mean(S)"
   ]
  },
  {
   "cell_type": "code",
   "execution_count": null,
   "id": "d60128a2",
   "metadata": {},
   "outputs": [],
   "source": [
    "sample_std = np.std(S, ddof=1)"
   ]
  },
  {
   "cell_type": "code",
   "execution_count": null,
   "id": "f3e1ffd3",
   "metadata": {},
   "outputs": [],
   "source": [
    "sample_size = len(S)"
   ]
  },
  {
   "cell_type": "code",
   "execution_count": null,
   "id": "9e00bea1",
   "metadata": {},
   "outputs": [],
   "source": [
    "print('media_muestra:' , sample_mean)\n",
    "print('desv_est:' , sample_std)\n",
    "print('n_obs:' , sample_size)"
   ]
  },
  {
   "cell_type": "code",
   "execution_count": null,
   "id": "b9fa38c8",
   "metadata": {},
   "outputs": [],
   "source": [
    "# Nivel de confianza (90%, 95%, 99%)\n",
    "nivel_confianza = [0.9, 0.95, 0.99]\n",
    "\n",
    "# Calcular el valor crítico de la distribución normal estándar para cada nivel de confianza\n",
    "critical_values = [norm.ppf((1 + confidence) / 2) for confidence in nivel_confianza]\n",
    "\n",
    "# Calcular el error estándar\n",
    "standard_error = sample_std / np.sqrt(sample_size)\n",
    "\n",
    "# Calcular los límites del intervalo de confianza para cada nivel\n",
    "confidence_intervals = [\n",
    "    (sample_mean - critical_value * standard_error, sample_mean + critical_value * standard_error)\n",
    "    for critical_value in critical_values\n",
    "]\n",
    "\n",
    "# Imprimir los intervalos de confianza\n",
    "for i, confidence_interval in enumerate(confidence_intervals):\n",
    "    confidence_level = nivel_confianza[i]\n",
    "    print(f\"Intervalo de confianza al {confidence_level*100}%: {confidence_interval}\")"
   ]
  },
  {
   "cell_type": "code",
   "execution_count": null,
   "id": "7eda6222",
   "metadata": {},
   "outputs": [],
   "source": []
  }
 ],
 "metadata": {
  "kernelspec": {
   "display_name": "Python 3 (ipykernel)",
   "language": "python",
   "name": "python3"
  },
  "language_info": {
   "codemirror_mode": {
    "name": "ipython",
    "version": 3
   },
   "file_extension": ".py",
   "mimetype": "text/x-python",
   "name": "python",
   "nbconvert_exporter": "python",
   "pygments_lexer": "ipython3",
   "version": "3.12.7"
  }
 },
 "nbformat": 4,
 "nbformat_minor": 5
}
