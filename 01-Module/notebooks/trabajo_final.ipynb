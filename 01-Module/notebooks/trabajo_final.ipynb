{
 "cells": [
  {
   "cell_type": "markdown",
   "id": "f7f4a88f-3d93-4a71-bbde-ceae37458dba",
   "metadata": {},
   "source": [
    "# Modelo para la entrega de trabajo final del Curso de etsadistica e introducción a Python\n",
    "## Diplomado en Ciencia de Datos 3ra edición\n",
    "\n",
    "### Docente:\n",
    "*Renzo Claure Aracena*\n",
    "\n",
    "### Objetivo:\n",
    "- Extraer información valiosa de una base de datos, a través de la implementación de un notebok de Python y utilizando técnicas de visualización y estadísticas descriptivas e inferenciales\n",
    "\n",
    "### Instrucciones\n",
    "- Conseguir una base de datos, explicar su contexto y objetivo.\n",
    "- Describir sus principales características (tipo de variables, cnatidad de datos y variables).\n",
    "- Describir las variables (estadísticos descriptivos según el tipo)\n",
    "- Elaborar 3 gráficos y explicarlos\n",
    "- ... se darán más explicaciones las siguientes clases\n",
    "\n",
    "\n",
    "### Sobre el archivo a entregar:\n",
    "El Notebook final debe almacenarse con el siguiente formato para el nombre de archivo:  \n",
    "  **nombre_apellido_20025_3.ipynb**  "
   ]
  },
  {
   "cell_type": "markdown",
   "id": "51c9759a-e628-44df-a965-3c55e626502c",
   "metadata": {},
   "source": [
    "### Datos del alumno:\n",
    "Nombre Apellido  \n",
    "correo@electronico.com"
   ]
  },
  {
   "cell_type": "markdown",
   "id": "8afd0877-df6b-47c5-8618-3e27d04b15ce",
   "metadata": {},
   "source": [
    "### 1. Descripcion de la base de datos"
   ]
  },
  {
   "cell_type": "markdown",
   "id": "60330a3f-a446-4b44-ae5f-dd860d87a5a2",
   "metadata": {},
   "source": [
    "Ingrese la fuente de la base de datos, si fué obtenida en línea ingrese el link. No importa el formato original (cv, xlsx, sql, etc.).  \n",
    "Describa la base de datos, de que se trata, como fue obtenida, el año, etc.  \n",
    "Describa las variables, que unidades, que significa."
   ]
  },
  {
   "cell_type": "markdown",
   "id": "ae9a9ceb-d935-4dc3-b8bd-b642d19dcec1",
   "metadata": {},
   "source": [
    "### 2. Importar los datos al Notebook"
   ]
  },
  {
   "cell_type": "code",
   "execution_count": 4,
   "id": "aabbef1e-b256-4c0f-a18f-728dc1a9f536",
   "metadata": {},
   "outputs": [],
   "source": [
    "#En esta sección debe estar el codigo de la importación, la verificacion de calidad de la importación y una visualización de algunos casos."
   ]
  },
  {
   "cell_type": "markdown",
   "id": "0943cb43-5206-4e33-9d83-e174e112fc6a",
   "metadata": {},
   "source": [
    "### 3. Tratamiento de variables"
   ]
  },
  {
   "cell_type": "code",
   "execution_count": 5,
   "id": "7ea64963-24f3-474c-911b-4391e6fdd6a0",
   "metadata": {},
   "outputs": [],
   "source": [
    "#En esta sección debe revisar los tipos de variables, identificar si existen valores nulos y su tratamiento de ser necesario. \n",
    "#Si realiza un tratamiento de datos perdidos, justifique su decisión."
   ]
  },
  {
   "cell_type": "markdown",
   "id": "2d5a8b9c-8f90-404c-885b-9251c183544d",
   "metadata": {},
   "source": [
    "### 4. Análisis descriptivo de variables"
   ]
  },
  {
   "cell_type": "code",
   "execution_count": 1,
   "id": "abf64c38-dfba-456d-af41-e3bebfa840de",
   "metadata": {},
   "outputs": [],
   "source": [
    "#En esta sección realice un analisis descriptivo de variables.\n",
    "#Utilice estadisticos de tendencia cenmtral y disporsión\n",
    "#Realice al menos tres gráficos, claros y explique sus conclusiones adecuadamente"
   ]
  },
  {
   "cell_type": "markdown",
   "id": "28dd08cc-3c53-499c-a49d-d65c1dc557ad",
   "metadata": {},
   "source": [
    "### 5. Muestreo y Asintopia"
   ]
  },
  {
   "cell_type": "code",
   "execution_count": null,
   "id": "0d9d7c61-22f8-4d93-bab2-4d80d6a83039",
   "metadata": {},
   "outputs": [],
   "source": [
    "#En esta sección deberá demostrar experiemntalmente la centralidad de las medias muestrales.\n",
    "#Elija una variable cuantitativa de su set de datos y genere 20 muestras, todas con la misma cantidad de registros (al menos de tamaño 30)\n",
    "#Demuestre que la media de las medias muestrales es igual a la media poblacional\n",
    "#Realice lo mismo con las varianzas\n",
    "#Compare la media de las varianzas muestrales con la varianza poblacional\n",
    "#Describa sus conclusiones"
   ]
  },
  {
   "cell_type": "markdown",
   "id": "15a1970d-f936-4efc-9432-1a901521486f",
   "metadata": {},
   "source": [
    "### 6. Intérvalos de confianza"
   ]
  },
  {
   "cell_type": "code",
   "execution_count": null,
   "id": "92142c44-f618-42f1-aa99-eb8293cc47f5",
   "metadata": {},
   "outputs": [],
   "source": [
    "#En esta secciópn deberá elaborar intérvalos de confianza de variables cuantitativas\n",
    "#Elija dos variables cuantitativas y obtenga una muestra de cada una, de al menos 30 casos.\n",
    "#Obtenga los intérvalos de confianza del 95% para las medias de ambas muestras y comparelas con las medias poblacionales\n",
    "#Describa sus resultados"
   ]
  },
  {
   "cell_type": "markdown",
   "id": "4c304927-26da-44f0-955d-63c1088fea6e",
   "metadata": {},
   "source": [
    "### 7. Prueba de hipótesis de la diferencia de dos grupos"
   ]
  },
  {
   "cell_type": "code",
   "execution_count": null,
   "id": "ff8ca0ef-a1f8-4ba3-af2f-66dfd6f31715",
   "metadata": {},
   "outputs": [],
   "source": [
    "#Considere su set de datos, escoja una variable categorica y una continua,  \n",
    "#y realice una prueba de hipotesis para la diferencia de la variable continua con respecto de dos niveles de la  variable categórica."
   ]
  },
  {
   "cell_type": "markdown",
   "id": "e9bf2877-efef-4b6e-897a-1472a2cc11e2",
   "metadata": {},
   "source": [
    "### 8. Análisis ANOVA"
   ]
  },
  {
   "cell_type": "code",
   "execution_count": null,
   "id": "aff785a1-e40e-4ef3-84e3-11350a9c949e",
   "metadata": {},
   "outputs": [],
   "source": [
    "#Identifique un factor en su set de datos (variable categorica) y una variable cuantitativa, \n",
    "#realice un anáisis ANOVA de un factor. \n",
    "#Realice la verificacion de igualdad de varianzas"
   ]
  },
  {
   "cell_type": "markdown",
   "id": "81beff40-2837-46e8-a6da-c9b8b8afea5d",
   "metadata": {},
   "source": [
    "### 9. Analisis de Correlación"
   ]
  },
  {
   "cell_type": "code",
   "execution_count": null,
   "id": "638469bb-7d68-4464-8544-6df17b230207",
   "metadata": {},
   "outputs": [],
   "source": [
    "#Realice un analisis de correlacion entre dos variables cuantitativas"
   ]
  }
 ],
 "metadata": {
  "kernelspec": {
   "display_name": "Python 3 (ipykernel)",
   "language": "python",
   "name": "python3"
  },
  "language_info": {
   "codemirror_mode": {
    "name": "ipython",
    "version": 3
   },
   "file_extension": ".py",
   "mimetype": "text/x-python",
   "name": "python",
   "nbconvert_exporter": "python",
   "pygments_lexer": "ipython3",
   "version": "3.12.7"
  }
 },
 "nbformat": 4,
 "nbformat_minor": 5
}
